{
 "cells": [
  {
   "cell_type": "markdown",
   "metadata": {},
   "source": [
    "### Will a Customer Accept the Coupon?\n",
    "\n",
    "**Overview**\n",
    "\n",
    "The goal of this project is to use what you know about visualizations and probability distributions to distinguish between customers who accepted a driving coupon versus those that did not.\n",
    "\n",
    "**Data**\n",
    "\n",
    "\n",
    "This data comes to us from the UCI Machine Learning repository and was collected via a survey on Amazon Mechanical Turk. The survey describes different driving scenarios including the destination, current time, weather, passenger, etc., and then ask the person whether he will accept the coupon if he is the driver. Answers that the user will drive there ‘right away’ or ‘later before the coupon expires’ are labeled as ‘Y = 1’ and answers ‘no, I do not want the coupon’ are labeled as ‘Y = 0’.  There are five different types of coupons -- less expensive restaurants (under \\\\$20), coffee houses, carry out & take away, bar, and more expensive restaurants (\\\\$20 - \\\\$50). "
   ]
  },
  {
   "cell_type": "markdown",
   "metadata": {},
   "source": [
    "**Deliverables**\n",
    "\n",
    "Your final product should be a brief report that highlights the differences between customers who did and did not accept the coupons.  To explore the data you will utilize your knowledge of plotting, statistical summaries, and visualization using Python. You will publish your findings in a public facing github repository as your first portfolio piece. \n",
    "\n",
    "\n",
    "\n"
   ]
  },
  {
   "cell_type": "markdown",
   "metadata": {},
   "source": [
    "### Data Description\n",
    "\n",
    "The attributes of this data set include:\n",
    "1. User attributes\n",
    "    -  Gender: male, female\n",
    "    -  Age: below 21, 21 to 25, 26 to 30, etc.\n",
    "    -  Marital Status: single, married partner, unmarried partner, or widowed\n",
    "    -  Number of children: 0, 1, or more than 1\n",
    "    -  Education: high school, bachelors degree, associates degree, or graduate degree\n",
    "    -  Occupation: architecture & engineering, business & financial, etc.\n",
    "    -  Annual income: less than \\\\$12500, \\\\$12500 - \\\\$24999, \\\\$25000 - \\\\$37499, etc.\n",
    "    -  Number of times that he/she goes to a bar: 0, less than 1, 1 to 3, 4 to 8 or greater than 8\n",
    "    -  Number of times that he/she buys takeaway food: 0, less than 1, 1 to 3, 4 to 8 or greater\n",
    "    than 8\n",
    "    -  Number of times that he/she goes to a coffee house: 0, less than 1, 1 to 3, 4 to 8 or\n",
    "    greater than 8\n",
    "    -  Number of times that he/she eats at a restaurant with average expense less than \\\\$20 per\n",
    "    person: 0, less than 1, 1 to 3, 4 to 8 or greater than 8\n",
    "    -  Number of times that he/she goes to a bar: 0, less than 1, 1 to 3, 4 to 8 or greater than 8\n",
    "\n",
    "2. Contextual attributes\n",
    "    - Driving destination: home, work, or no urgent destination\n",
    "    - Location of user, coupon and destination: we provide a map to show the geographical\n",
    "    location of the user, destination, and the venue, and we mark the distance between each\n",
    "    two places with time of driving. The user can see whether the venue is in the same\n",
    "    direction as the destination.\n",
    "    - Weather: sunny, rainy, or snowy\n",
    "    - Temperature: 30F, 55F, or 80F\n",
    "    - Time: 10AM, 2PM, or 6PM\n",
    "    - Passenger: alone, partner, kid(s), or friend(s)\n",
    "\n",
    "3. Coupon attributes\n",
    "    - time before it expires: 2 hours or one day"
   ]
  },
  {
   "cell_type": "code",
   "execution_count": 145,
   "metadata": {},
   "outputs": [],
   "source": [
    "import matplotlib.pyplot as plt\n",
    "import seaborn as sns\n",
    "import pandas as pd\n",
    "import numpy as np"
   ]
  },
  {
   "cell_type": "markdown",
   "metadata": {},
   "source": [
    "### Problems\n",
    "\n",
    "Use the prompts below to get started with your data analysis.  \n",
    "\n",
    "1. Read in the `coupons.csv` file.\n",
    "\n",
    "\n"
   ]
  },
  {
   "cell_type": "code",
   "execution_count": 146,
   "metadata": {},
   "outputs": [],
   "source": [
    "data = pd.read_csv('data/coupons.csv')"
   ]
  },
  {
   "cell_type": "code",
   "execution_count": 147,
   "metadata": {},
   "outputs": [
    {
     "data": {
      "text/html": [
       "<div>\n",
       "<style scoped>\n",
       "    .dataframe tbody tr th:only-of-type {\n",
       "        vertical-align: middle;\n",
       "    }\n",
       "\n",
       "    .dataframe tbody tr th {\n",
       "        vertical-align: top;\n",
       "    }\n",
       "\n",
       "    .dataframe thead th {\n",
       "        text-align: right;\n",
       "    }\n",
       "</style>\n",
       "<table border=\"1\" class=\"dataframe\">\n",
       "  <thead>\n",
       "    <tr style=\"text-align: right;\">\n",
       "      <th></th>\n",
       "      <th>destination</th>\n",
       "      <th>passanger</th>\n",
       "      <th>weather</th>\n",
       "      <th>temperature</th>\n",
       "      <th>time</th>\n",
       "      <th>coupon</th>\n",
       "      <th>expiration</th>\n",
       "      <th>gender</th>\n",
       "      <th>age</th>\n",
       "      <th>maritalStatus</th>\n",
       "      <th>...</th>\n",
       "      <th>CoffeeHouse</th>\n",
       "      <th>CarryAway</th>\n",
       "      <th>RestaurantLessThan20</th>\n",
       "      <th>Restaurant20To50</th>\n",
       "      <th>toCoupon_GEQ5min</th>\n",
       "      <th>toCoupon_GEQ15min</th>\n",
       "      <th>toCoupon_GEQ25min</th>\n",
       "      <th>direction_same</th>\n",
       "      <th>direction_opp</th>\n",
       "      <th>Y</th>\n",
       "    </tr>\n",
       "  </thead>\n",
       "  <tbody>\n",
       "    <tr>\n",
       "      <th>0</th>\n",
       "      <td>No Urgent Place</td>\n",
       "      <td>Alone</td>\n",
       "      <td>Sunny</td>\n",
       "      <td>55</td>\n",
       "      <td>2PM</td>\n",
       "      <td>Restaurant(&lt;20)</td>\n",
       "      <td>1d</td>\n",
       "      <td>Female</td>\n",
       "      <td>21</td>\n",
       "      <td>Unmarried partner</td>\n",
       "      <td>...</td>\n",
       "      <td>never</td>\n",
       "      <td>NaN</td>\n",
       "      <td>4~8</td>\n",
       "      <td>1~3</td>\n",
       "      <td>1</td>\n",
       "      <td>0</td>\n",
       "      <td>0</td>\n",
       "      <td>0</td>\n",
       "      <td>1</td>\n",
       "      <td>1</td>\n",
       "    </tr>\n",
       "    <tr>\n",
       "      <th>1</th>\n",
       "      <td>No Urgent Place</td>\n",
       "      <td>Friend(s)</td>\n",
       "      <td>Sunny</td>\n",
       "      <td>80</td>\n",
       "      <td>10AM</td>\n",
       "      <td>Coffee House</td>\n",
       "      <td>2h</td>\n",
       "      <td>Female</td>\n",
       "      <td>21</td>\n",
       "      <td>Unmarried partner</td>\n",
       "      <td>...</td>\n",
       "      <td>never</td>\n",
       "      <td>NaN</td>\n",
       "      <td>4~8</td>\n",
       "      <td>1~3</td>\n",
       "      <td>1</td>\n",
       "      <td>0</td>\n",
       "      <td>0</td>\n",
       "      <td>0</td>\n",
       "      <td>1</td>\n",
       "      <td>0</td>\n",
       "    </tr>\n",
       "    <tr>\n",
       "      <th>2</th>\n",
       "      <td>No Urgent Place</td>\n",
       "      <td>Friend(s)</td>\n",
       "      <td>Sunny</td>\n",
       "      <td>80</td>\n",
       "      <td>10AM</td>\n",
       "      <td>Carry out &amp; Take away</td>\n",
       "      <td>2h</td>\n",
       "      <td>Female</td>\n",
       "      <td>21</td>\n",
       "      <td>Unmarried partner</td>\n",
       "      <td>...</td>\n",
       "      <td>never</td>\n",
       "      <td>NaN</td>\n",
       "      <td>4~8</td>\n",
       "      <td>1~3</td>\n",
       "      <td>1</td>\n",
       "      <td>1</td>\n",
       "      <td>0</td>\n",
       "      <td>0</td>\n",
       "      <td>1</td>\n",
       "      <td>1</td>\n",
       "    </tr>\n",
       "    <tr>\n",
       "      <th>3</th>\n",
       "      <td>No Urgent Place</td>\n",
       "      <td>Friend(s)</td>\n",
       "      <td>Sunny</td>\n",
       "      <td>80</td>\n",
       "      <td>2PM</td>\n",
       "      <td>Coffee House</td>\n",
       "      <td>2h</td>\n",
       "      <td>Female</td>\n",
       "      <td>21</td>\n",
       "      <td>Unmarried partner</td>\n",
       "      <td>...</td>\n",
       "      <td>never</td>\n",
       "      <td>NaN</td>\n",
       "      <td>4~8</td>\n",
       "      <td>1~3</td>\n",
       "      <td>1</td>\n",
       "      <td>1</td>\n",
       "      <td>0</td>\n",
       "      <td>0</td>\n",
       "      <td>1</td>\n",
       "      <td>0</td>\n",
       "    </tr>\n",
       "    <tr>\n",
       "      <th>4</th>\n",
       "      <td>No Urgent Place</td>\n",
       "      <td>Friend(s)</td>\n",
       "      <td>Sunny</td>\n",
       "      <td>80</td>\n",
       "      <td>2PM</td>\n",
       "      <td>Coffee House</td>\n",
       "      <td>1d</td>\n",
       "      <td>Female</td>\n",
       "      <td>21</td>\n",
       "      <td>Unmarried partner</td>\n",
       "      <td>...</td>\n",
       "      <td>never</td>\n",
       "      <td>NaN</td>\n",
       "      <td>4~8</td>\n",
       "      <td>1~3</td>\n",
       "      <td>1</td>\n",
       "      <td>1</td>\n",
       "      <td>0</td>\n",
       "      <td>0</td>\n",
       "      <td>1</td>\n",
       "      <td>0</td>\n",
       "    </tr>\n",
       "  </tbody>\n",
       "</table>\n",
       "<p>5 rows × 26 columns</p>\n",
       "</div>"
      ],
      "text/plain": [
       "       destination  passanger weather  temperature  time  \\\n",
       "0  No Urgent Place      Alone   Sunny           55   2PM   \n",
       "1  No Urgent Place  Friend(s)   Sunny           80  10AM   \n",
       "2  No Urgent Place  Friend(s)   Sunny           80  10AM   \n",
       "3  No Urgent Place  Friend(s)   Sunny           80   2PM   \n",
       "4  No Urgent Place  Friend(s)   Sunny           80   2PM   \n",
       "\n",
       "                  coupon expiration  gender age      maritalStatus  ...  \\\n",
       "0        Restaurant(<20)         1d  Female  21  Unmarried partner  ...   \n",
       "1           Coffee House         2h  Female  21  Unmarried partner  ...   \n",
       "2  Carry out & Take away         2h  Female  21  Unmarried partner  ...   \n",
       "3           Coffee House         2h  Female  21  Unmarried partner  ...   \n",
       "4           Coffee House         1d  Female  21  Unmarried partner  ...   \n",
       "\n",
       "   CoffeeHouse CarryAway RestaurantLessThan20 Restaurant20To50  \\\n",
       "0        never       NaN                  4~8              1~3   \n",
       "1        never       NaN                  4~8              1~3   \n",
       "2        never       NaN                  4~8              1~3   \n",
       "3        never       NaN                  4~8              1~3   \n",
       "4        never       NaN                  4~8              1~3   \n",
       "\n",
       "  toCoupon_GEQ5min toCoupon_GEQ15min toCoupon_GEQ25min direction_same  \\\n",
       "0                1                 0                 0              0   \n",
       "1                1                 0                 0              0   \n",
       "2                1                 1                 0              0   \n",
       "3                1                 1                 0              0   \n",
       "4                1                 1                 0              0   \n",
       "\n",
       "  direction_opp  Y  \n",
       "0             1  1  \n",
       "1             1  0  \n",
       "2             1  1  \n",
       "3             1  0  \n",
       "4             1  0  \n",
       "\n",
       "[5 rows x 26 columns]"
      ]
     },
     "execution_count": 147,
     "metadata": {},
     "output_type": "execute_result"
    }
   ],
   "source": [
    "data.head()"
   ]
  },
  {
   "cell_type": "markdown",
   "metadata": {},
   "source": [
    "2. Investigate the dataset for missing or problematic data."
   ]
  },
  {
   "cell_type": "code",
   "execution_count": 148,
   "metadata": {},
   "outputs": [
    {
     "name": "stdout",
     "output_type": "stream",
     "text": [
      "<class 'pandas.core.frame.DataFrame'>\n",
      "RangeIndex: 12684 entries, 0 to 12683\n",
      "Data columns (total 26 columns):\n",
      " #   Column                Non-Null Count  Dtype \n",
      "---  ------                --------------  ----- \n",
      " 0   destination           12684 non-null  object\n",
      " 1   passanger             12684 non-null  object\n",
      " 2   weather               12684 non-null  object\n",
      " 3   temperature           12684 non-null  int64 \n",
      " 4   time                  12684 non-null  object\n",
      " 5   coupon                12684 non-null  object\n",
      " 6   expiration            12684 non-null  object\n",
      " 7   gender                12684 non-null  object\n",
      " 8   age                   12684 non-null  object\n",
      " 9   maritalStatus         12684 non-null  object\n",
      " 10  has_children          12684 non-null  int64 \n",
      " 11  education             12684 non-null  object\n",
      " 12  occupation            12684 non-null  object\n",
      " 13  income                12684 non-null  object\n",
      " 14  car                   108 non-null    object\n",
      " 15  Bar                   12577 non-null  object\n",
      " 16  CoffeeHouse           12467 non-null  object\n",
      " 17  CarryAway             12533 non-null  object\n",
      " 18  RestaurantLessThan20  12554 non-null  object\n",
      " 19  Restaurant20To50      12495 non-null  object\n",
      " 20  toCoupon_GEQ5min      12684 non-null  int64 \n",
      " 21  toCoupon_GEQ15min     12684 non-null  int64 \n",
      " 22  toCoupon_GEQ25min     12684 non-null  int64 \n",
      " 23  direction_same        12684 non-null  int64 \n",
      " 24  direction_opp         12684 non-null  int64 \n",
      " 25  Y                     12684 non-null  int64 \n",
      "dtypes: int64(8), object(18)\n",
      "memory usage: 2.5+ MB\n"
     ]
    }
   ],
   "source": [
    "data.info()"
   ]
  },
  {
   "cell_type": "code",
   "execution_count": 149,
   "metadata": {},
   "outputs": [],
   "source": [
    "#Using the .rename to change the Y column title \n",
    "data = data.rename(columns={'Y': 'Accepted'})"
   ]
  },
  {
   "cell_type": "code",
   "execution_count": 150,
   "metadata": {},
   "outputs": [
    {
     "data": {
      "text/plain": [
       "destination                 0\n",
       "passanger                   0\n",
       "weather                     0\n",
       "temperature                 0\n",
       "time                        0\n",
       "coupon                      0\n",
       "expiration                  0\n",
       "gender                      0\n",
       "age                         0\n",
       "maritalStatus               0\n",
       "has_children                0\n",
       "education                   0\n",
       "occupation                  0\n",
       "income                      0\n",
       "car                     12576\n",
       "Bar                       107\n",
       "CoffeeHouse               217\n",
       "CarryAway                 151\n",
       "RestaurantLessThan20      130\n",
       "Restaurant20To50          189\n",
       "toCoupon_GEQ5min            0\n",
       "toCoupon_GEQ15min           0\n",
       "toCoupon_GEQ25min           0\n",
       "direction_same              0\n",
       "direction_opp               0\n",
       "Accepted                    0\n",
       "dtype: int64"
      ]
     },
     "execution_count": 150,
     "metadata": {},
     "output_type": "execute_result"
    }
   ],
   "source": [
    "#calculating the sum of missing cells in each column\n",
    "data.isnull().sum()"
   ]
  },
  {
   "cell_type": "code",
   "execution_count": 151,
   "metadata": {},
   "outputs": [
    {
     "data": {
      "text/plain": [
       "destination              0.000000\n",
       "passanger                0.000000\n",
       "weather                  0.000000\n",
       "temperature              0.000000\n",
       "time                     0.000000\n",
       "coupon                   0.000000\n",
       "expiration               0.000000\n",
       "gender                   0.000000\n",
       "age                      0.000000\n",
       "maritalStatus            0.000000\n",
       "has_children             0.000000\n",
       "education                0.000000\n",
       "occupation               0.000000\n",
       "income                   0.000000\n",
       "car                     99.148534\n",
       "Bar                      0.843582\n",
       "CoffeeHouse              1.710817\n",
       "CarryAway                1.190476\n",
       "RestaurantLessThan20     1.024913\n",
       "Restaurant20To50         1.490066\n",
       "toCoupon_GEQ5min         0.000000\n",
       "toCoupon_GEQ15min        0.000000\n",
       "toCoupon_GEQ25min        0.000000\n",
       "direction_same           0.000000\n",
       "direction_opp            0.000000\n",
       "Accepted                 0.000000\n",
       "dtype: float64"
      ]
     },
     "execution_count": 151,
     "metadata": {},
     "output_type": "execute_result"
    }
   ],
   "source": [
    "#Calculating the percentage of missing cells in each column from total number of rows in the dataframe\n",
    "#To get more insight on the missing data\n",
    "(data.isnull().sum() / len(data))*100"
   ]
  },
  {
   "attachments": {},
   "cell_type": "markdown",
   "metadata": {},
   "source": [
    "From the above output, we can see that 6 columns have missing values. However, the column \"car\" has the most missing values (99% of the data is missing). As a result, this column will be discarded from the DataFrame and from further analysis. On the other hand, the mode will be used to fill the missing values for the remaining 5 columns. The mode to impute the missing values used because the percentage of missing data in these columns are not high. Thus, potential bias is minimal."
   ]
  },
  {
   "cell_type": "code",
   "execution_count": 152,
   "metadata": {},
   "outputs": [
    {
     "data": {
      "text/html": [
       "<div>\n",
       "<style scoped>\n",
       "    .dataframe tbody tr th:only-of-type {\n",
       "        vertical-align: middle;\n",
       "    }\n",
       "\n",
       "    .dataframe tbody tr th {\n",
       "        vertical-align: top;\n",
       "    }\n",
       "\n",
       "    .dataframe thead th {\n",
       "        text-align: right;\n",
       "    }\n",
       "</style>\n",
       "<table border=\"1\" class=\"dataframe\">\n",
       "  <thead>\n",
       "    <tr style=\"text-align: right;\">\n",
       "      <th></th>\n",
       "      <th>Bar</th>\n",
       "      <th>CoffeeHouse</th>\n",
       "      <th>CarryAway</th>\n",
       "      <th>RestaurantLessThan20</th>\n",
       "      <th>Restaurant20To50</th>\n",
       "    </tr>\n",
       "  </thead>\n",
       "  <tbody>\n",
       "    <tr>\n",
       "      <th>0</th>\n",
       "      <td>never</td>\n",
       "      <td>less1</td>\n",
       "      <td>1~3</td>\n",
       "      <td>1~3</td>\n",
       "      <td>less1</td>\n",
       "    </tr>\n",
       "  </tbody>\n",
       "</table>\n",
       "</div>"
      ],
      "text/plain": [
       "     Bar CoffeeHouse CarryAway RestaurantLessThan20 Restaurant20To50\n",
       "0  never       less1       1~3                  1~3            less1"
      ]
     },
     "execution_count": 152,
     "metadata": {},
     "output_type": "execute_result"
    }
   ],
   "source": [
    "#Since \"car\" column contains no useful information, this column is dropped using the .drop() method.\n",
    "data.drop('car',axis='columns', inplace=True)\n",
    "#Calcaulting the mode for the remaining columns\n",
    "data[['Bar', 'CoffeeHouse','CarryAway','RestaurantLessThan20','Restaurant20To50']].mode()"
   ]
  },
  {
   "cell_type": "code",
   "execution_count": 153,
   "metadata": {},
   "outputs": [],
   "source": [
    "#Using the .fillna to fill the missing cells with their corresponding mode\n",
    "data['Bar'].fillna('never', inplace=True)\n",
    "data['CoffeeHouse'].fillna('less1', inplace=True)\n",
    "data['CarryAway'].fillna('1~3', inplace=True)\n",
    "data['RestaurantLessThan20'].fillna('1~3', inplace=True)\n",
    "data['Restaurant20To50'].fillna('less1', inplace=True)"
   ]
  },
  {
   "cell_type": "code",
   "execution_count": 154,
   "metadata": {},
   "outputs": [
    {
     "data": {
      "text/plain": [
       "destination             0\n",
       "passanger               0\n",
       "weather                 0\n",
       "temperature             0\n",
       "time                    0\n",
       "coupon                  0\n",
       "expiration              0\n",
       "gender                  0\n",
       "age                     0\n",
       "maritalStatus           0\n",
       "has_children            0\n",
       "education               0\n",
       "occupation              0\n",
       "income                  0\n",
       "Bar                     0\n",
       "CoffeeHouse             0\n",
       "CarryAway               0\n",
       "RestaurantLessThan20    0\n",
       "Restaurant20To50        0\n",
       "toCoupon_GEQ5min        0\n",
       "toCoupon_GEQ15min       0\n",
       "toCoupon_GEQ25min       0\n",
       "direction_same          0\n",
       "direction_opp           0\n",
       "Accepted                0\n",
       "dtype: int64"
      ]
     },
     "execution_count": 154,
     "metadata": {},
     "output_type": "execute_result"
    }
   ],
   "source": [
    "#checking the data again for missing values\n",
    "data.isnull().sum()"
   ]
  },
  {
   "cell_type": "code",
   "execution_count": 155,
   "metadata": {},
   "outputs": [
    {
     "data": {
      "text/html": [
       "<div>\n",
       "<style scoped>\n",
       "    .dataframe tbody tr th:only-of-type {\n",
       "        vertical-align: middle;\n",
       "    }\n",
       "\n",
       "    .dataframe tbody tr th {\n",
       "        vertical-align: top;\n",
       "    }\n",
       "\n",
       "    .dataframe thead th {\n",
       "        text-align: right;\n",
       "    }\n",
       "</style>\n",
       "<table border=\"1\" class=\"dataframe\">\n",
       "  <thead>\n",
       "    <tr style=\"text-align: right;\">\n",
       "      <th></th>\n",
       "      <th>temperature</th>\n",
       "      <th>has_children</th>\n",
       "      <th>toCoupon_GEQ5min</th>\n",
       "      <th>toCoupon_GEQ15min</th>\n",
       "      <th>toCoupon_GEQ25min</th>\n",
       "      <th>direction_same</th>\n",
       "      <th>direction_opp</th>\n",
       "      <th>Accepted</th>\n",
       "    </tr>\n",
       "  </thead>\n",
       "  <tbody>\n",
       "    <tr>\n",
       "      <th>count</th>\n",
       "      <td>12684.000000</td>\n",
       "      <td>12684.000000</td>\n",
       "      <td>12684.0</td>\n",
       "      <td>12684.000000</td>\n",
       "      <td>12684.000000</td>\n",
       "      <td>12684.000000</td>\n",
       "      <td>12684.000000</td>\n",
       "      <td>12684.000000</td>\n",
       "    </tr>\n",
       "    <tr>\n",
       "      <th>mean</th>\n",
       "      <td>63.301798</td>\n",
       "      <td>0.414144</td>\n",
       "      <td>1.0</td>\n",
       "      <td>0.561495</td>\n",
       "      <td>0.119126</td>\n",
       "      <td>0.214759</td>\n",
       "      <td>0.785241</td>\n",
       "      <td>0.568433</td>\n",
       "    </tr>\n",
       "    <tr>\n",
       "      <th>std</th>\n",
       "      <td>19.154486</td>\n",
       "      <td>0.492593</td>\n",
       "      <td>0.0</td>\n",
       "      <td>0.496224</td>\n",
       "      <td>0.323950</td>\n",
       "      <td>0.410671</td>\n",
       "      <td>0.410671</td>\n",
       "      <td>0.495314</td>\n",
       "    </tr>\n",
       "    <tr>\n",
       "      <th>min</th>\n",
       "      <td>30.000000</td>\n",
       "      <td>0.000000</td>\n",
       "      <td>1.0</td>\n",
       "      <td>0.000000</td>\n",
       "      <td>0.000000</td>\n",
       "      <td>0.000000</td>\n",
       "      <td>0.000000</td>\n",
       "      <td>0.000000</td>\n",
       "    </tr>\n",
       "    <tr>\n",
       "      <th>25%</th>\n",
       "      <td>55.000000</td>\n",
       "      <td>0.000000</td>\n",
       "      <td>1.0</td>\n",
       "      <td>0.000000</td>\n",
       "      <td>0.000000</td>\n",
       "      <td>0.000000</td>\n",
       "      <td>1.000000</td>\n",
       "      <td>0.000000</td>\n",
       "    </tr>\n",
       "    <tr>\n",
       "      <th>50%</th>\n",
       "      <td>80.000000</td>\n",
       "      <td>0.000000</td>\n",
       "      <td>1.0</td>\n",
       "      <td>1.000000</td>\n",
       "      <td>0.000000</td>\n",
       "      <td>0.000000</td>\n",
       "      <td>1.000000</td>\n",
       "      <td>1.000000</td>\n",
       "    </tr>\n",
       "    <tr>\n",
       "      <th>75%</th>\n",
       "      <td>80.000000</td>\n",
       "      <td>1.000000</td>\n",
       "      <td>1.0</td>\n",
       "      <td>1.000000</td>\n",
       "      <td>0.000000</td>\n",
       "      <td>0.000000</td>\n",
       "      <td>1.000000</td>\n",
       "      <td>1.000000</td>\n",
       "    </tr>\n",
       "    <tr>\n",
       "      <th>max</th>\n",
       "      <td>80.000000</td>\n",
       "      <td>1.000000</td>\n",
       "      <td>1.0</td>\n",
       "      <td>1.000000</td>\n",
       "      <td>1.000000</td>\n",
       "      <td>1.000000</td>\n",
       "      <td>1.000000</td>\n",
       "      <td>1.000000</td>\n",
       "    </tr>\n",
       "  </tbody>\n",
       "</table>\n",
       "</div>"
      ],
      "text/plain": [
       "        temperature  has_children  toCoupon_GEQ5min  toCoupon_GEQ15min  \\\n",
       "count  12684.000000  12684.000000           12684.0       12684.000000   \n",
       "mean      63.301798      0.414144               1.0           0.561495   \n",
       "std       19.154486      0.492593               0.0           0.496224   \n",
       "min       30.000000      0.000000               1.0           0.000000   \n",
       "25%       55.000000      0.000000               1.0           0.000000   \n",
       "50%       80.000000      0.000000               1.0           1.000000   \n",
       "75%       80.000000      1.000000               1.0           1.000000   \n",
       "max       80.000000      1.000000               1.0           1.000000   \n",
       "\n",
       "       toCoupon_GEQ25min  direction_same  direction_opp      Accepted  \n",
       "count       12684.000000    12684.000000   12684.000000  12684.000000  \n",
       "mean            0.119126        0.214759       0.785241      0.568433  \n",
       "std             0.323950        0.410671       0.410671      0.495314  \n",
       "min             0.000000        0.000000       0.000000      0.000000  \n",
       "25%             0.000000        0.000000       1.000000      0.000000  \n",
       "50%             0.000000        0.000000       1.000000      1.000000  \n",
       "75%             0.000000        0.000000       1.000000      1.000000  \n",
       "max             1.000000        1.000000       1.000000      1.000000  "
      ]
     },
     "execution_count": 155,
     "metadata": {},
     "output_type": "execute_result"
    }
   ],
   "source": [
    "#Summary for continuous variables\n",
    "data.describe()"
   ]
  },
  {
   "cell_type": "code",
   "execution_count": 156,
   "metadata": {},
   "outputs": [
    {
     "data": {
      "text/plain": [
       "21         2653\n",
       "26         2559\n",
       "31         2039\n",
       "50plus     1788\n",
       "36         1319\n",
       "41         1093\n",
       "46          686\n",
       "below21     547\n",
       "Name: age, dtype: int64"
      ]
     },
     "execution_count": 156,
     "metadata": {},
     "output_type": "execute_result"
    }
   ],
   "source": [
    "#Summary of for the categorical 'age' column\n",
    "data['age'].value_counts()"
   ]
  },
  {
   "attachments": {},
   "cell_type": "markdown",
   "metadata": {},
   "source": [
    "After checking all categorical columns using the .value_counts(), replacement for specific strings was done using the .replace \n",
    "Columns that required modifications were 'age','Bar', 'CoffeeHouse', 'CarryAway','RestaurantLessThan20', 'Restaurant20To50', 'passanger', and 'income'."
   ]
  },
  {
   "cell_type": "code",
   "execution_count": 157,
   "metadata": {},
   "outputs": [
    {
     "name": "stderr",
     "output_type": "stream",
     "text": [
      "/var/folders/sg/crty_38n2fv_yyvdd8pnnkqr0000gn/T/ipykernel_79112/616202986.py:8: FutureWarning: The default value of regex will change from True to False in a future version.\n",
      "  data[\"passanger\"] = data[\"passanger\"].str.replace(\"\\(s\\)\",\"\")\n",
      "/var/folders/sg/crty_38n2fv_yyvdd8pnnkqr0000gn/T/ipykernel_79112/616202986.py:9: FutureWarning: The default value of regex will change from True to False in a future version. In addition, single character regular expressions will *not* be treated as literal strings when regex=True.\n",
      "  data[\"income\"] = data[\"income\"].str.replace(\"$\",\"\")\n"
     ]
    }
   ],
   "source": [
    "data[\"age\"] = data[\"age\"].replace(['below21','21','26','31','36','41','46','50plus'],\n",
    "                              ['<21','21 - 25','26 - 30','31 - 35','36 - 40','41 - 45','46 - 50','50+'])\n",
    "data[\"Bar\"] = data[\"Bar\"].replace(['1~3','4~8'],['1 - 3','4 - 8'])\n",
    "data[\"CoffeeHouse\"] = data[\"CoffeeHouse\"].replace(['1~3','4~8'],['1 - 3','4 - 8'])\n",
    "data[\"CarryAway\"] = data[\"CarryAway\"].replace(['1~3','4~8'],['1 - 3','4 - 8'])\n",
    "data[\"RestaurantLessThan20\"] = data[\"RestaurantLessThan20\"].replace(['1~3','4~8'],['1 - 3','4 - 8'])\n",
    "data[\"Restaurant20To50\"] = data[\"Restaurant20To50\"].replace(['1~3','4~8'],['1 - 3','4 - 8'])\n",
    "data[\"passanger\"] = data[\"passanger\"].str.replace(\"\\(s\\)\",\"\")\n",
    "data[\"income\"] = data[\"income\"].str.replace(\"$\",\"\")"
   ]
  },
  {
   "attachments": {},
   "cell_type": "markdown",
   "metadata": {},
   "source": [
    "I will introduce two new column in the dataframe called 'age_group' and 'bar_group'. This will help me in the crosstab for the hypothesis testing question (in the old version notebook)"
   ]
  },
  {
   "cell_type": "code",
   "execution_count": 158,
   "metadata": {},
   "outputs": [],
   "source": [
    "data[\"bar_group\"] = data[\"Bar\"].replace(['never','less1','1 - 3','4 - 8','gt8'],\n",
    "                                        ['less than 1','less than 1','more than 1','more than 1','more than 1'])\n",
    "data[\"age_group\"] = data[\"age\"].replace(['<21','21 - 25','26 - 30','31 - 35','36 - 40','41 - 45','46 - 50','50+'],\n",
    "                                        ['≤25','≤25','>25','>25','>25','>25','>25','>25'])"
   ]
  },
  {
   "cell_type": "code",
   "execution_count": 159,
   "metadata": {},
   "outputs": [
    {
     "name": "stdout",
     "output_type": "stream",
     "text": [
      "<class 'pandas.core.frame.DataFrame'>\n",
      "RangeIndex: 12684 entries, 0 to 12683\n",
      "Data columns (total 27 columns):\n",
      " #   Column                Non-Null Count  Dtype \n",
      "---  ------                --------------  ----- \n",
      " 0   destination           12684 non-null  object\n",
      " 1   passanger             12684 non-null  object\n",
      " 2   weather               12684 non-null  object\n",
      " 3   temperature           12684 non-null  int64 \n",
      " 4   time                  12684 non-null  object\n",
      " 5   coupon                12684 non-null  object\n",
      " 6   expiration            12684 non-null  object\n",
      " 7   gender                12684 non-null  object\n",
      " 8   age                   12684 non-null  object\n",
      " 9   maritalStatus         12684 non-null  object\n",
      " 10  has_children          12684 non-null  int64 \n",
      " 11  education             12684 non-null  object\n",
      " 12  occupation            12684 non-null  object\n",
      " 13  income                12684 non-null  object\n",
      " 14  Bar                   12684 non-null  object\n",
      " 15  CoffeeHouse           12684 non-null  object\n",
      " 16  CarryAway             12684 non-null  object\n",
      " 17  RestaurantLessThan20  12684 non-null  object\n",
      " 18  Restaurant20To50      12684 non-null  object\n",
      " 19  toCoupon_GEQ5min      12684 non-null  int64 \n",
      " 20  toCoupon_GEQ15min     12684 non-null  int64 \n",
      " 21  toCoupon_GEQ25min     12684 non-null  int64 \n",
      " 22  direction_same        12684 non-null  int64 \n",
      " 23  direction_opp         12684 non-null  int64 \n",
      " 24  Accepted              12684 non-null  int64 \n",
      " 25  bar_group             12684 non-null  object\n",
      " 26  age_group             12684 non-null  object\n",
      "dtypes: int64(8), object(19)\n",
      "memory usage: 2.6+ MB\n"
     ]
    }
   ],
   "source": [
    "data.info()"
   ]
  },
  {
   "cell_type": "code",
   "execution_count": 160,
   "metadata": {},
   "outputs": [
    {
     "data": {
      "text/html": [
       "<div>\n",
       "<style scoped>\n",
       "    .dataframe tbody tr th:only-of-type {\n",
       "        vertical-align: middle;\n",
       "    }\n",
       "\n",
       "    .dataframe tbody tr th {\n",
       "        vertical-align: top;\n",
       "    }\n",
       "\n",
       "    .dataframe thead th {\n",
       "        text-align: right;\n",
       "    }\n",
       "</style>\n",
       "<table border=\"1\" class=\"dataframe\">\n",
       "  <thead>\n",
       "    <tr style=\"text-align: right;\">\n",
       "      <th></th>\n",
       "      <th>destination</th>\n",
       "      <th>passanger</th>\n",
       "      <th>weather</th>\n",
       "      <th>temperature</th>\n",
       "      <th>time</th>\n",
       "      <th>coupon</th>\n",
       "      <th>expiration</th>\n",
       "      <th>gender</th>\n",
       "      <th>age</th>\n",
       "      <th>maritalStatus</th>\n",
       "      <th>...</th>\n",
       "      <th>RestaurantLessThan20</th>\n",
       "      <th>Restaurant20To50</th>\n",
       "      <th>toCoupon_GEQ5min</th>\n",
       "      <th>toCoupon_GEQ15min</th>\n",
       "      <th>toCoupon_GEQ25min</th>\n",
       "      <th>direction_same</th>\n",
       "      <th>direction_opp</th>\n",
       "      <th>Accepted</th>\n",
       "      <th>bar_group</th>\n",
       "      <th>age_group</th>\n",
       "    </tr>\n",
       "  </thead>\n",
       "  <tbody>\n",
       "    <tr>\n",
       "      <th>0</th>\n",
       "      <td>No Urgent Place</td>\n",
       "      <td>Alone</td>\n",
       "      <td>Sunny</td>\n",
       "      <td>55</td>\n",
       "      <td>2PM</td>\n",
       "      <td>Restaurant(&lt;20)</td>\n",
       "      <td>1d</td>\n",
       "      <td>Female</td>\n",
       "      <td>21 - 25</td>\n",
       "      <td>Unmarried partner</td>\n",
       "      <td>...</td>\n",
       "      <td>4 - 8</td>\n",
       "      <td>1 - 3</td>\n",
       "      <td>1</td>\n",
       "      <td>0</td>\n",
       "      <td>0</td>\n",
       "      <td>0</td>\n",
       "      <td>1</td>\n",
       "      <td>1</td>\n",
       "      <td>less than 1</td>\n",
       "      <td>≤25</td>\n",
       "    </tr>\n",
       "    <tr>\n",
       "      <th>1</th>\n",
       "      <td>No Urgent Place</td>\n",
       "      <td>Friend</td>\n",
       "      <td>Sunny</td>\n",
       "      <td>80</td>\n",
       "      <td>10AM</td>\n",
       "      <td>Coffee House</td>\n",
       "      <td>2h</td>\n",
       "      <td>Female</td>\n",
       "      <td>21 - 25</td>\n",
       "      <td>Unmarried partner</td>\n",
       "      <td>...</td>\n",
       "      <td>4 - 8</td>\n",
       "      <td>1 - 3</td>\n",
       "      <td>1</td>\n",
       "      <td>0</td>\n",
       "      <td>0</td>\n",
       "      <td>0</td>\n",
       "      <td>1</td>\n",
       "      <td>0</td>\n",
       "      <td>less than 1</td>\n",
       "      <td>≤25</td>\n",
       "    </tr>\n",
       "    <tr>\n",
       "      <th>2</th>\n",
       "      <td>No Urgent Place</td>\n",
       "      <td>Friend</td>\n",
       "      <td>Sunny</td>\n",
       "      <td>80</td>\n",
       "      <td>10AM</td>\n",
       "      <td>Carry out &amp; Take away</td>\n",
       "      <td>2h</td>\n",
       "      <td>Female</td>\n",
       "      <td>21 - 25</td>\n",
       "      <td>Unmarried partner</td>\n",
       "      <td>...</td>\n",
       "      <td>4 - 8</td>\n",
       "      <td>1 - 3</td>\n",
       "      <td>1</td>\n",
       "      <td>1</td>\n",
       "      <td>0</td>\n",
       "      <td>0</td>\n",
       "      <td>1</td>\n",
       "      <td>1</td>\n",
       "      <td>less than 1</td>\n",
       "      <td>≤25</td>\n",
       "    </tr>\n",
       "    <tr>\n",
       "      <th>3</th>\n",
       "      <td>No Urgent Place</td>\n",
       "      <td>Friend</td>\n",
       "      <td>Sunny</td>\n",
       "      <td>80</td>\n",
       "      <td>2PM</td>\n",
       "      <td>Coffee House</td>\n",
       "      <td>2h</td>\n",
       "      <td>Female</td>\n",
       "      <td>21 - 25</td>\n",
       "      <td>Unmarried partner</td>\n",
       "      <td>...</td>\n",
       "      <td>4 - 8</td>\n",
       "      <td>1 - 3</td>\n",
       "      <td>1</td>\n",
       "      <td>1</td>\n",
       "      <td>0</td>\n",
       "      <td>0</td>\n",
       "      <td>1</td>\n",
       "      <td>0</td>\n",
       "      <td>less than 1</td>\n",
       "      <td>≤25</td>\n",
       "    </tr>\n",
       "    <tr>\n",
       "      <th>4</th>\n",
       "      <td>No Urgent Place</td>\n",
       "      <td>Friend</td>\n",
       "      <td>Sunny</td>\n",
       "      <td>80</td>\n",
       "      <td>2PM</td>\n",
       "      <td>Coffee House</td>\n",
       "      <td>1d</td>\n",
       "      <td>Female</td>\n",
       "      <td>21 - 25</td>\n",
       "      <td>Unmarried partner</td>\n",
       "      <td>...</td>\n",
       "      <td>4 - 8</td>\n",
       "      <td>1 - 3</td>\n",
       "      <td>1</td>\n",
       "      <td>1</td>\n",
       "      <td>0</td>\n",
       "      <td>0</td>\n",
       "      <td>1</td>\n",
       "      <td>0</td>\n",
       "      <td>less than 1</td>\n",
       "      <td>≤25</td>\n",
       "    </tr>\n",
       "  </tbody>\n",
       "</table>\n",
       "<p>5 rows × 27 columns</p>\n",
       "</div>"
      ],
      "text/plain": [
       "       destination passanger weather  temperature  time  \\\n",
       "0  No Urgent Place     Alone   Sunny           55   2PM   \n",
       "1  No Urgent Place    Friend   Sunny           80  10AM   \n",
       "2  No Urgent Place    Friend   Sunny           80  10AM   \n",
       "3  No Urgent Place    Friend   Sunny           80   2PM   \n",
       "4  No Urgent Place    Friend   Sunny           80   2PM   \n",
       "\n",
       "                  coupon expiration  gender      age      maritalStatus  ...  \\\n",
       "0        Restaurant(<20)         1d  Female  21 - 25  Unmarried partner  ...   \n",
       "1           Coffee House         2h  Female  21 - 25  Unmarried partner  ...   \n",
       "2  Carry out & Take away         2h  Female  21 - 25  Unmarried partner  ...   \n",
       "3           Coffee House         2h  Female  21 - 25  Unmarried partner  ...   \n",
       "4           Coffee House         1d  Female  21 - 25  Unmarried partner  ...   \n",
       "\n",
       "   RestaurantLessThan20 Restaurant20To50 toCoupon_GEQ5min toCoupon_GEQ15min  \\\n",
       "0                 4 - 8            1 - 3                1                 0   \n",
       "1                 4 - 8            1 - 3                1                 0   \n",
       "2                 4 - 8            1 - 3                1                 1   \n",
       "3                 4 - 8            1 - 3                1                 1   \n",
       "4                 4 - 8            1 - 3                1                 1   \n",
       "\n",
       "  toCoupon_GEQ25min direction_same direction_opp Accepted    bar_group  \\\n",
       "0                 0              0             1        1  less than 1   \n",
       "1                 0              0             1        0  less than 1   \n",
       "2                 0              0             1        1  less than 1   \n",
       "3                 0              0             1        0  less than 1   \n",
       "4                 0              0             1        0  less than 1   \n",
       "\n",
       "   age_group  \n",
       "0        ≤25  \n",
       "1        ≤25  \n",
       "2        ≤25  \n",
       "3        ≤25  \n",
       "4        ≤25  \n",
       "\n",
       "[5 rows x 27 columns]"
      ]
     },
     "execution_count": 160,
     "metadata": {},
     "output_type": "execute_result"
    }
   ],
   "source": [
    "data.head()"
   ]
  },
  {
   "cell_type": "code",
   "execution_count": null,
   "metadata": {},
   "outputs": [],
   "source": []
  },
  {
   "cell_type": "markdown",
   "metadata": {},
   "source": [
    "3. Decide what to do about your missing data -- drop, replace, other..."
   ]
  },
  {
   "cell_type": "code",
   "execution_count": 161,
   "metadata": {},
   "outputs": [],
   "source": [
    "## As shown in question 2, I chose to drop the 'car' column \n",
    "#and fill the missing values for the remaining columns using the mode\n",
    "#I chose to do so in question 2, because I wanted a full dataset before modifying some columns' values"
   ]
  },
  {
   "cell_type": "markdown",
   "metadata": {},
   "source": [
    "4. What proportion of the total observations chose to accept the coupon? \n",
    "\n"
   ]
  },
  {
   "cell_type": "code",
   "execution_count": 162,
   "metadata": {},
   "outputs": [
    {
     "data": {
      "text/plain": [
       "Text(0.5, 1.0, 'Percentage of drivers who accepted the coupon')"
      ]
     },
     "execution_count": 162,
     "metadata": {},
     "output_type": "execute_result"
    },
    {
     "data": {
      "image/png": "[encoded data removed]",
      "text/plain": [
       "<Figure size 432x432 with 1 Axes>"
      ]
     },
     "metadata": {},
     "output_type": "display_data"
    }
   ],
   "source": [
    "labels = ['Yes','No']\n",
    "data['Accepted'].value_counts().plot(kind='pie',autopct='%.0f%%',labels = labels, figsize = (6,6), fontsize=16)\n",
    "plt.title(\"Percentage of drivers who accepted the coupon\", {\"size\" : 16})"
   ]
  },
  {
   "cell_type": "code",
   "execution_count": 163,
   "metadata": {},
   "outputs": [
    {
     "name": "stdout",
     "output_type": "stream",
     "text": [
      "The proportion of the total observations chose to accept the coupon is 57.0 %\n"
     ]
    }
   ],
   "source": [
    "Overall_Acceptance = ((data['Accepted'].sum()/ len(data))*100).round(0)\n",
    "\n",
    "print(\"The proportion of the total observations chose to accept the coupon is\", Overall_Acceptance,\"%\")"
   ]
  },
  {
   "cell_type": "markdown",
   "metadata": {},
   "source": [
    "5. Use a bar plot to visualize the `coupon` column."
   ]
  },
  {
   "cell_type": "code",
   "execution_count": 164,
   "metadata": {},
   "outputs": [
    {
     "data": {
      "text/plain": [
       "Text(0.5, 1.0, 'Bar plot for different coupon types')"
      ]
     },
     "execution_count": 164,
     "metadata": {},
     "output_type": "execute_result"
    },
    {
     "data": {
      "image/png": "[encoded data removed]",
      "text/plain": [
       "<Figure size 1080x720 with 1 Axes>"
      ]
     },
     "metadata": {},
     "output_type": "display_data"
    }
   ],
   "source": [
    "coupon_counts = data['coupon'].value_counts()\n",
    "\n",
    "sns.set(font_scale = 1.5)\n",
    "plt.figure(figsize=(15,10))\n",
    "barplot=sns.barplot(x = coupon_counts.index, y = coupon_counts.values, alpha=0.8,\n",
    "            order=[\"Bar\", \"Carry out & Take away\",\"Coffee House\",\"Restaurant(<20)\",\"Restaurant(20-50)\"])\n",
    "barplot.set_xlabel(\"Coupon\",fontsize=16)\n",
    "barplot.set_ylabel(\"Count\",fontsize=16)\n",
    "barplot.set_title(\"Bar plot for different coupon types\",fontsize=16)"
   ]
  },
  {
   "attachments": {},
   "cell_type": "markdown",
   "metadata": {},
   "source": [
    "The above chart shows that the most distributed coupons were Coffee House coupons and least were Expensive restaurants coupons.\n",
    "\n",
    "\n",
    "I also would like to visualize the coupons counts by acceptance rate"
   ]
  },
  {
   "cell_type": "code",
   "execution_count": 165,
   "metadata": {},
   "outputs": [
    {
     "data": {
      "text/plain": [
       "Text(0.5, 1.0, 'Bar plot for different coupon types by Acceptance (0 = No, 1 = Yes)')"
      ]
     },
     "execution_count": 165,
     "metadata": {},
     "output_type": "execute_result"
    },
    {
     "data": {
      "image/png": "[encoded data removed]",
      "text/plain": [
       "<Figure size 1080x720 with 1 Axes>"
      ]
     },
     "metadata": {},
     "output_type": "display_data"
    }
   ],
   "source": [
    "sns.set(font_scale = 1.5)\n",
    "plt.figure(figsize=(15,10))\n",
    "countplot=sns.countplot(data = data, x = 'coupon', alpha=0.8,\n",
    "            order=[\"Bar\", \"Carry out & Take away\",\"Coffee House\",\"Restaurant(<20)\",\"Restaurant(20-50)\"],\n",
    "                    hue = 'Accepted')\n",
    "countplot.set_xlabel(\"Coupon\",fontsize=16)\n",
    "countplot.set_ylabel(\"Count\",fontsize=16)\n",
    "countplot.set_title(\"Bar plot for different coupon types by Acceptance (0 = No, 1 = Yes)\",fontsize=16)"
   ]
  },
  {
   "attachments": {},
   "cell_type": "markdown",
   "metadata": {},
   "source": [
    "The above chart shows that the highest accepted coupons were the Coffee house ones followed by cheap restaurants. The least accepted coupons were the expensive restaurants ones. Despite being the most accepted, coffee house coupons are also the most not accepted coupons. Probably this is because they are the most distributed."
   ]
  },
  {
   "cell_type": "markdown",
   "metadata": {},
   "source": [
    "6. Use a histogram to visualize the temperature column."
   ]
  },
  {
   "cell_type": "code",
   "execution_count": 166,
   "metadata": {},
   "outputs": [
    {
     "data": {
      "text/plain": [
       "Text(0.5, 1.0, 'Histogram of Temperature in °F')"
      ]
     },
     "execution_count": 166,
     "metadata": {},
     "output_type": "execute_result"
    },
    {
     "data": {
      "image/png": "[encoded data removed]",
      "text/plain": [
       "<Figure size 432x288 with 1 Axes>"
      ]
     },
     "metadata": {},
     "output_type": "display_data"
    }
   ],
   "source": [
    "histplot= sns.histplot(data=data,x='temperature')\n",
    "histplot.set_xlabel(\"Temperature (°F)\",fontsize=16)\n",
    "histplot.set_ylabel(\"Count\",fontsize=16)\n",
    "histplot.set_title(\"Histogram of Temperature in °F\",fontsize=16)"
   ]
  },
  {
   "attachments": {},
   "cell_type": "markdown",
   "metadata": {},
   "source": [
    "It was previously shown that 'temperature' was not recorded on continuous scale - with only three possible values (30,55, or 80). So, a histogram would not be the best visualization for temperature. \n",
    "\n",
    "As shown below, a bar plot could be used instead."
   ]
  },
  {
   "cell_type": "code",
   "execution_count": 167,
   "metadata": {},
   "outputs": [
    {
     "data": {
      "text/plain": [
       "Text(0.5, 1.0, 'Bar Plot for different temperatures in °F')"
      ]
     },
     "execution_count": 167,
     "metadata": {},
     "output_type": "execute_result"
    },
    {
     "data": {
      "image/png": "[encoded data removed]",
      "text/plain": [
       "<Figure size 1080x720 with 1 Axes>"
      ]
     },
     "metadata": {},
     "output_type": "display_data"
    }
   ],
   "source": [
    "temperature_counts = data['temperature'].value_counts()\n",
    "\n",
    "sns.set(font_scale = 1.5)\n",
    "plt.figure(figsize=(15,10))\n",
    "barplot2=sns.barplot(x = temperature_counts.index, y = temperature_counts.values, alpha=0.8)\n",
    "barplot2.set_xlabel(\"Temperatures (°F)\",fontsize=16)\n",
    "barplot2.set_ylabel(\"Count\",fontsize=16)\n",
    "barplot2.set_title(\"Bar Plot for different temperatures in °F\",fontsize=16)"
   ]
  },
  {
   "attachments": {},
   "cell_type": "markdown",
   "metadata": {},
   "source": [
    "The bar plot shows that higher numbers of coupons were being distributed with higher temperatures."
   ]
  },
  {
   "cell_type": "markdown",
   "metadata": {},
   "source": [
    "**Investigating the Bar Coupons**\n",
    "\n",
    "Now, we will lead you through an exploration of just the bar related coupons.  \n",
    "\n",
    "1. Create a new `DataFrame` that contains just the bar coupons.\n"
   ]
  },
  {
   "cell_type": "code",
   "execution_count": 168,
   "metadata": {},
   "outputs": [],
   "source": [
    "#Using the .loc and .str.contains to select rows with bar coupons only\n",
    "\n",
    "data_bar= data.loc[data['coupon'].str.contains(\"Bar\")]"
   ]
  },
  {
   "cell_type": "code",
   "execution_count": 169,
   "metadata": {},
   "outputs": [
    {
     "name": "stdout",
     "output_type": "stream",
     "text": [
      "<class 'pandas.core.frame.DataFrame'>\n",
      "Int64Index: 2017 entries, 9 to 12682\n",
      "Data columns (total 27 columns):\n",
      " #   Column                Non-Null Count  Dtype \n",
      "---  ------                --------------  ----- \n",
      " 0   destination           2017 non-null   object\n",
      " 1   passanger             2017 non-null   object\n",
      " 2   weather               2017 non-null   object\n",
      " 3   temperature           2017 non-null   int64 \n",
      " 4   time                  2017 non-null   object\n",
      " 5   coupon                2017 non-null   object\n",
      " 6   expiration            2017 non-null   object\n",
      " 7   gender                2017 non-null   object\n",
      " 8   age                   2017 non-null   object\n",
      " 9   maritalStatus         2017 non-null   object\n",
      " 10  has_children          2017 non-null   int64 \n",
      " 11  education             2017 non-null   object\n",
      " 12  occupation            2017 non-null   object\n",
      " 13  income                2017 non-null   object\n",
      " 14  Bar                   2017 non-null   object\n",
      " 15  CoffeeHouse           2017 non-null   object\n",
      " 16  CarryAway             2017 non-null   object\n",
      " 17  RestaurantLessThan20  2017 non-null   object\n",
      " 18  Restaurant20To50      2017 non-null   object\n",
      " 19  toCoupon_GEQ5min      2017 non-null   int64 \n",
      " 20  toCoupon_GEQ15min     2017 non-null   int64 \n",
      " 21  toCoupon_GEQ25min     2017 non-null   int64 \n",
      " 22  direction_same        2017 non-null   int64 \n",
      " 23  direction_opp         2017 non-null   int64 \n",
      " 24  Accepted              2017 non-null   int64 \n",
      " 25  bar_group             2017 non-null   object\n",
      " 26  age_group             2017 non-null   object\n",
      "dtypes: int64(8), object(19)\n",
      "memory usage: 441.2+ KB\n"
     ]
    }
   ],
   "source": [
    "data_bar.info()"
   ]
  },
  {
   "cell_type": "code",
   "execution_count": 170,
   "metadata": {},
   "outputs": [
    {
     "data": {
      "text/html": [
       "<div>\n",
       "<style scoped>\n",
       "    .dataframe tbody tr th:only-of-type {\n",
       "        vertical-align: middle;\n",
       "    }\n",
       "\n",
       "    .dataframe tbody tr th {\n",
       "        vertical-align: top;\n",
       "    }\n",
       "\n",
       "    .dataframe thead th {\n",
       "        text-align: right;\n",
       "    }\n",
       "</style>\n",
       "<table border=\"1\" class=\"dataframe\">\n",
       "  <thead>\n",
       "    <tr style=\"text-align: right;\">\n",
       "      <th></th>\n",
       "      <th>destination</th>\n",
       "      <th>passanger</th>\n",
       "      <th>weather</th>\n",
       "      <th>temperature</th>\n",
       "      <th>time</th>\n",
       "      <th>coupon</th>\n",
       "      <th>expiration</th>\n",
       "      <th>gender</th>\n",
       "      <th>age</th>\n",
       "      <th>maritalStatus</th>\n",
       "      <th>...</th>\n",
       "      <th>RestaurantLessThan20</th>\n",
       "      <th>Restaurant20To50</th>\n",
       "      <th>toCoupon_GEQ5min</th>\n",
       "      <th>toCoupon_GEQ15min</th>\n",
       "      <th>toCoupon_GEQ25min</th>\n",
       "      <th>direction_same</th>\n",
       "      <th>direction_opp</th>\n",
       "      <th>Accepted</th>\n",
       "      <th>bar_group</th>\n",
       "      <th>age_group</th>\n",
       "    </tr>\n",
       "  </thead>\n",
       "  <tbody>\n",
       "    <tr>\n",
       "      <th>9</th>\n",
       "      <td>No Urgent Place</td>\n",
       "      <td>Kid</td>\n",
       "      <td>Sunny</td>\n",
       "      <td>80</td>\n",
       "      <td>10AM</td>\n",
       "      <td>Bar</td>\n",
       "      <td>1d</td>\n",
       "      <td>Female</td>\n",
       "      <td>21 - 25</td>\n",
       "      <td>Unmarried partner</td>\n",
       "      <td>...</td>\n",
       "      <td>4 - 8</td>\n",
       "      <td>1 - 3</td>\n",
       "      <td>1</td>\n",
       "      <td>1</td>\n",
       "      <td>0</td>\n",
       "      <td>0</td>\n",
       "      <td>1</td>\n",
       "      <td>0</td>\n",
       "      <td>less than 1</td>\n",
       "      <td>≤25</td>\n",
       "    </tr>\n",
       "    <tr>\n",
       "      <th>13</th>\n",
       "      <td>Home</td>\n",
       "      <td>Alone</td>\n",
       "      <td>Sunny</td>\n",
       "      <td>55</td>\n",
       "      <td>6PM</td>\n",
       "      <td>Bar</td>\n",
       "      <td>1d</td>\n",
       "      <td>Female</td>\n",
       "      <td>21 - 25</td>\n",
       "      <td>Unmarried partner</td>\n",
       "      <td>...</td>\n",
       "      <td>4 - 8</td>\n",
       "      <td>1 - 3</td>\n",
       "      <td>1</td>\n",
       "      <td>0</td>\n",
       "      <td>0</td>\n",
       "      <td>1</td>\n",
       "      <td>0</td>\n",
       "      <td>1</td>\n",
       "      <td>less than 1</td>\n",
       "      <td>≤25</td>\n",
       "    </tr>\n",
       "    <tr>\n",
       "      <th>17</th>\n",
       "      <td>Work</td>\n",
       "      <td>Alone</td>\n",
       "      <td>Sunny</td>\n",
       "      <td>55</td>\n",
       "      <td>7AM</td>\n",
       "      <td>Bar</td>\n",
       "      <td>1d</td>\n",
       "      <td>Female</td>\n",
       "      <td>21 - 25</td>\n",
       "      <td>Unmarried partner</td>\n",
       "      <td>...</td>\n",
       "      <td>4 - 8</td>\n",
       "      <td>1 - 3</td>\n",
       "      <td>1</td>\n",
       "      <td>1</td>\n",
       "      <td>1</td>\n",
       "      <td>0</td>\n",
       "      <td>1</td>\n",
       "      <td>0</td>\n",
       "      <td>less than 1</td>\n",
       "      <td>≤25</td>\n",
       "    </tr>\n",
       "    <tr>\n",
       "      <th>24</th>\n",
       "      <td>No Urgent Place</td>\n",
       "      <td>Friend</td>\n",
       "      <td>Sunny</td>\n",
       "      <td>80</td>\n",
       "      <td>10AM</td>\n",
       "      <td>Bar</td>\n",
       "      <td>1d</td>\n",
       "      <td>Male</td>\n",
       "      <td>21 - 25</td>\n",
       "      <td>Single</td>\n",
       "      <td>...</td>\n",
       "      <td>4 - 8</td>\n",
       "      <td>less1</td>\n",
       "      <td>1</td>\n",
       "      <td>0</td>\n",
       "      <td>0</td>\n",
       "      <td>0</td>\n",
       "      <td>1</td>\n",
       "      <td>1</td>\n",
       "      <td>less than 1</td>\n",
       "      <td>≤25</td>\n",
       "    </tr>\n",
       "    <tr>\n",
       "      <th>35</th>\n",
       "      <td>Home</td>\n",
       "      <td>Alone</td>\n",
       "      <td>Sunny</td>\n",
       "      <td>55</td>\n",
       "      <td>6PM</td>\n",
       "      <td>Bar</td>\n",
       "      <td>1d</td>\n",
       "      <td>Male</td>\n",
       "      <td>21 - 25</td>\n",
       "      <td>Single</td>\n",
       "      <td>...</td>\n",
       "      <td>4 - 8</td>\n",
       "      <td>less1</td>\n",
       "      <td>1</td>\n",
       "      <td>0</td>\n",
       "      <td>0</td>\n",
       "      <td>1</td>\n",
       "      <td>0</td>\n",
       "      <td>1</td>\n",
       "      <td>less than 1</td>\n",
       "      <td>≤25</td>\n",
       "    </tr>\n",
       "  </tbody>\n",
       "</table>\n",
       "<p>5 rows × 27 columns</p>\n",
       "</div>"
      ],
      "text/plain": [
       "        destination passanger weather  temperature  time coupon expiration  \\\n",
       "9   No Urgent Place       Kid   Sunny           80  10AM    Bar         1d   \n",
       "13             Home     Alone   Sunny           55   6PM    Bar         1d   \n",
       "17             Work     Alone   Sunny           55   7AM    Bar         1d   \n",
       "24  No Urgent Place    Friend   Sunny           80  10AM    Bar         1d   \n",
       "35             Home     Alone   Sunny           55   6PM    Bar         1d   \n",
       "\n",
       "    gender      age      maritalStatus  ...  RestaurantLessThan20  \\\n",
       "9   Female  21 - 25  Unmarried partner  ...                 4 - 8   \n",
       "13  Female  21 - 25  Unmarried partner  ...                 4 - 8   \n",
       "17  Female  21 - 25  Unmarried partner  ...                 4 - 8   \n",
       "24    Male  21 - 25             Single  ...                 4 - 8   \n",
       "35    Male  21 - 25             Single  ...                 4 - 8   \n",
       "\n",
       "   Restaurant20To50 toCoupon_GEQ5min toCoupon_GEQ15min toCoupon_GEQ25min  \\\n",
       "9             1 - 3                1                 1                 0   \n",
       "13            1 - 3                1                 0                 0   \n",
       "17            1 - 3                1                 1                 1   \n",
       "24            less1                1                 0                 0   \n",
       "35            less1                1                 0                 0   \n",
       "\n",
       "   direction_same direction_opp Accepted    bar_group  age_group  \n",
       "9               0             1        0  less than 1        ≤25  \n",
       "13              1             0        1  less than 1        ≤25  \n",
       "17              0             1        0  less than 1        ≤25  \n",
       "24              0             1        1  less than 1        ≤25  \n",
       "35              1             0        1  less than 1        ≤25  \n",
       "\n",
       "[5 rows x 27 columns]"
      ]
     },
     "execution_count": 170,
     "metadata": {},
     "output_type": "execute_result"
    }
   ],
   "source": [
    "data_bar.head()"
   ]
  },
  {
   "cell_type": "markdown",
   "metadata": {},
   "source": [
    "2. What proportion of bar coupons were accepted?\n"
   ]
  },
  {
   "cell_type": "code",
   "execution_count": 171,
   "metadata": {},
   "outputs": [
    {
     "data": {
      "text/plain": [
       "Text(0.5, 1.0, 'Percentage of drivers who accepted Bar coupons')"
      ]
     },
     "execution_count": 171,
     "metadata": {},
     "output_type": "execute_result"
    },
    {
     "data": {
      "image/png": "[encoded data removed]",
      "text/plain": [
       "<Figure size 432x432 with 1 Axes>"
      ]
     },
     "metadata": {},
     "output_type": "display_data"
    }
   ],
   "source": [
    "labels = ['No','Yes']\n",
    "data_bar['Accepted'].value_counts().plot(kind='pie',autopct='%.0f%%',labels = labels, figsize = (6,6), fontsize=16, \n",
    "                                     explode = [0.05,0.05])\n",
    "plt.title(\"Percentage of drivers who accepted Bar coupons\", {\"size\" : 16})"
   ]
  },
  {
   "cell_type": "code",
   "execution_count": 172,
   "metadata": {},
   "outputs": [
    {
     "name": "stdout",
     "output_type": "stream",
     "text": [
      "The proportion of drivers who accepted the bar coupon is 41.0 %\n"
     ]
    }
   ],
   "source": [
    "Bar_Coupon_Acceptance = ((data_bar['Accepted'].sum()/ len(data_bar))*100).round(0)\n",
    "\n",
    "print(\"The proportion of drivers who accepted the bar coupon is\", Bar_Coupon_Acceptance,\"%\")"
   ]
  },
  {
   "cell_type": "markdown",
   "metadata": {},
   "source": [
    "3. Compare the acceptance rate between those who went to a bar 3 or fewer times a month to those who went more.\n"
   ]
  },
  {
   "cell_type": "code",
   "execution_count": 173,
   "metadata": {},
   "outputs": [
    {
     "data": {
      "text/html": [
       "<div>\n",
       "<style scoped>\n",
       "    .dataframe tbody tr th:only-of-type {\n",
       "        vertical-align: middle;\n",
       "    }\n",
       "\n",
       "    .dataframe tbody tr th {\n",
       "        vertical-align: top;\n",
       "    }\n",
       "\n",
       "    .dataframe thead th {\n",
       "        text-align: right;\n",
       "    }\n",
       "</style>\n",
       "<table border=\"1\" class=\"dataframe\">\n",
       "  <thead>\n",
       "    <tr style=\"text-align: right;\">\n",
       "      <th>Accepted</th>\n",
       "      <th>0</th>\n",
       "      <th>1</th>\n",
       "      <th>Total</th>\n",
       "    </tr>\n",
       "    <tr>\n",
       "      <th>Bar</th>\n",
       "      <th></th>\n",
       "      <th></th>\n",
       "      <th></th>\n",
       "    </tr>\n",
       "  </thead>\n",
       "  <tbody>\n",
       "    <tr>\n",
       "      <th>1 - 3</th>\n",
       "      <td>140</td>\n",
       "      <td>257</td>\n",
       "      <td>397</td>\n",
       "    </tr>\n",
       "    <tr>\n",
       "      <th>4 - 8</th>\n",
       "      <td>33</td>\n",
       "      <td>117</td>\n",
       "      <td>150</td>\n",
       "    </tr>\n",
       "    <tr>\n",
       "      <th>gt8</th>\n",
       "      <td>13</td>\n",
       "      <td>36</td>\n",
       "      <td>49</td>\n",
       "    </tr>\n",
       "    <tr>\n",
       "      <th>less1</th>\n",
       "      <td>317</td>\n",
       "      <td>253</td>\n",
       "      <td>570</td>\n",
       "    </tr>\n",
       "    <tr>\n",
       "      <th>never</th>\n",
       "      <td>687</td>\n",
       "      <td>164</td>\n",
       "      <td>851</td>\n",
       "    </tr>\n",
       "    <tr>\n",
       "      <th>Total</th>\n",
       "      <td>1190</td>\n",
       "      <td>827</td>\n",
       "      <td>2017</td>\n",
       "    </tr>\n",
       "  </tbody>\n",
       "</table>\n",
       "</div>"
      ],
      "text/plain": [
       "Accepted     0    1  Total\n",
       "Bar                       \n",
       "1 - 3      140  257    397\n",
       "4 - 8       33  117    150\n",
       "gt8         13   36     49\n",
       "less1      317  253    570\n",
       "never      687  164    851\n",
       "Total     1190  827   2017"
      ]
     },
     "execution_count": 173,
     "metadata": {},
     "output_type": "execute_result"
    }
   ],
   "source": [
    "#Crosstabulation to investigate the association between number of visits and acceptance rate\n",
    "pd.crosstab(data_bar['Bar'], data_bar['Accepted'],margins=True, margins_name=\"Total\")"
   ]
  },
  {
   "cell_type": "code",
   "execution_count": 174,
   "metadata": {},
   "outputs": [
    {
     "data": {
      "text/html": [
       "<div>\n",
       "<style scoped>\n",
       "    .dataframe tbody tr th:only-of-type {\n",
       "        vertical-align: middle;\n",
       "    }\n",
       "\n",
       "    .dataframe tbody tr th {\n",
       "        vertical-align: top;\n",
       "    }\n",
       "\n",
       "    .dataframe thead th {\n",
       "        text-align: right;\n",
       "    }\n",
       "</style>\n",
       "<table border=\"1\" class=\"dataframe\">\n",
       "  <thead>\n",
       "    <tr style=\"text-align: right;\">\n",
       "      <th>Accepted</th>\n",
       "      <th>0</th>\n",
       "      <th>1</th>\n",
       "      <th>Total</th>\n",
       "    </tr>\n",
       "    <tr>\n",
       "      <th>Bar</th>\n",
       "      <th></th>\n",
       "      <th></th>\n",
       "      <th></th>\n",
       "    </tr>\n",
       "  </thead>\n",
       "  <tbody>\n",
       "    <tr>\n",
       "      <th>1 - 3</th>\n",
       "      <td>6.941001</td>\n",
       "      <td>12.741696</td>\n",
       "      <td>19.682697</td>\n",
       "    </tr>\n",
       "    <tr>\n",
       "      <th>4 - 8</th>\n",
       "      <td>1.636093</td>\n",
       "      <td>5.800694</td>\n",
       "      <td>7.436787</td>\n",
       "    </tr>\n",
       "    <tr>\n",
       "      <th>gt8</th>\n",
       "      <td>0.644522</td>\n",
       "      <td>1.784829</td>\n",
       "      <td>2.429351</td>\n",
       "    </tr>\n",
       "    <tr>\n",
       "      <th>less1</th>\n",
       "      <td>15.716411</td>\n",
       "      <td>12.543381</td>\n",
       "      <td>28.259792</td>\n",
       "    </tr>\n",
       "    <tr>\n",
       "      <th>never</th>\n",
       "      <td>34.060486</td>\n",
       "      <td>8.130887</td>\n",
       "      <td>42.191373</td>\n",
       "    </tr>\n",
       "    <tr>\n",
       "      <th>Total</th>\n",
       "      <td>58.998513</td>\n",
       "      <td>41.001487</td>\n",
       "      <td>100.000000</td>\n",
       "    </tr>\n",
       "  </tbody>\n",
       "</table>\n",
       "</div>"
      ],
      "text/plain": [
       "Accepted          0          1       Total\n",
       "Bar                                       \n",
       "1 - 3      6.941001  12.741696   19.682697\n",
       "4 - 8      1.636093   5.800694    7.436787\n",
       "gt8        0.644522   1.784829    2.429351\n",
       "less1     15.716411  12.543381   28.259792\n",
       "never     34.060486   8.130887   42.191373\n",
       "Total     58.998513  41.001487  100.000000"
      ]
     },
     "execution_count": 174,
     "metadata": {},
     "output_type": "execute_result"
    }
   ],
   "source": [
    "#Same as above but with percentage\n",
    "pd.crosstab(data_bar['Bar'], data_bar['Accepted'],margins=True, margins_name=\"Total\",normalize=True)*100"
   ]
  },
  {
   "cell_type": "code",
   "execution_count": 175,
   "metadata": {},
   "outputs": [
    {
     "data": {
      "text/html": [
       "<div>\n",
       "<style scoped>\n",
       "    .dataframe tbody tr th:only-of-type {\n",
       "        vertical-align: middle;\n",
       "    }\n",
       "\n",
       "    .dataframe tbody tr th {\n",
       "        vertical-align: top;\n",
       "    }\n",
       "\n",
       "    .dataframe thead th {\n",
       "        text-align: right;\n",
       "    }\n",
       "</style>\n",
       "<table border=\"1\" class=\"dataframe\">\n",
       "  <thead>\n",
       "    <tr style=\"text-align: right;\">\n",
       "      <th></th>\n",
       "      <th>destination</th>\n",
       "      <th>passanger</th>\n",
       "      <th>weather</th>\n",
       "      <th>temperature</th>\n",
       "      <th>time</th>\n",
       "      <th>coupon</th>\n",
       "      <th>expiration</th>\n",
       "      <th>gender</th>\n",
       "      <th>age</th>\n",
       "      <th>maritalStatus</th>\n",
       "      <th>...</th>\n",
       "      <th>RestaurantLessThan20</th>\n",
       "      <th>Restaurant20To50</th>\n",
       "      <th>toCoupon_GEQ5min</th>\n",
       "      <th>toCoupon_GEQ15min</th>\n",
       "      <th>toCoupon_GEQ25min</th>\n",
       "      <th>direction_same</th>\n",
       "      <th>direction_opp</th>\n",
       "      <th>Accepted</th>\n",
       "      <th>bar_group</th>\n",
       "      <th>age_group</th>\n",
       "    </tr>\n",
       "  </thead>\n",
       "  <tbody>\n",
       "    <tr>\n",
       "      <th>9</th>\n",
       "      <td>No Urgent Place</td>\n",
       "      <td>Kid</td>\n",
       "      <td>Sunny</td>\n",
       "      <td>80</td>\n",
       "      <td>10AM</td>\n",
       "      <td>Bar</td>\n",
       "      <td>1d</td>\n",
       "      <td>Female</td>\n",
       "      <td>21 - 25</td>\n",
       "      <td>Unmarried partner</td>\n",
       "      <td>...</td>\n",
       "      <td>4 - 8</td>\n",
       "      <td>1 - 3</td>\n",
       "      <td>1</td>\n",
       "      <td>1</td>\n",
       "      <td>0</td>\n",
       "      <td>0</td>\n",
       "      <td>1</td>\n",
       "      <td>0</td>\n",
       "      <td>less than 1</td>\n",
       "      <td>≤25</td>\n",
       "    </tr>\n",
       "    <tr>\n",
       "      <th>13</th>\n",
       "      <td>Home</td>\n",
       "      <td>Alone</td>\n",
       "      <td>Sunny</td>\n",
       "      <td>55</td>\n",
       "      <td>6PM</td>\n",
       "      <td>Bar</td>\n",
       "      <td>1d</td>\n",
       "      <td>Female</td>\n",
       "      <td>21 - 25</td>\n",
       "      <td>Unmarried partner</td>\n",
       "      <td>...</td>\n",
       "      <td>4 - 8</td>\n",
       "      <td>1 - 3</td>\n",
       "      <td>1</td>\n",
       "      <td>0</td>\n",
       "      <td>0</td>\n",
       "      <td>1</td>\n",
       "      <td>0</td>\n",
       "      <td>1</td>\n",
       "      <td>less than 1</td>\n",
       "      <td>≤25</td>\n",
       "    </tr>\n",
       "    <tr>\n",
       "      <th>17</th>\n",
       "      <td>Work</td>\n",
       "      <td>Alone</td>\n",
       "      <td>Sunny</td>\n",
       "      <td>55</td>\n",
       "      <td>7AM</td>\n",
       "      <td>Bar</td>\n",
       "      <td>1d</td>\n",
       "      <td>Female</td>\n",
       "      <td>21 - 25</td>\n",
       "      <td>Unmarried partner</td>\n",
       "      <td>...</td>\n",
       "      <td>4 - 8</td>\n",
       "      <td>1 - 3</td>\n",
       "      <td>1</td>\n",
       "      <td>1</td>\n",
       "      <td>1</td>\n",
       "      <td>0</td>\n",
       "      <td>1</td>\n",
       "      <td>0</td>\n",
       "      <td>less than 1</td>\n",
       "      <td>≤25</td>\n",
       "    </tr>\n",
       "    <tr>\n",
       "      <th>24</th>\n",
       "      <td>No Urgent Place</td>\n",
       "      <td>Friend</td>\n",
       "      <td>Sunny</td>\n",
       "      <td>80</td>\n",
       "      <td>10AM</td>\n",
       "      <td>Bar</td>\n",
       "      <td>1d</td>\n",
       "      <td>Male</td>\n",
       "      <td>21 - 25</td>\n",
       "      <td>Single</td>\n",
       "      <td>...</td>\n",
       "      <td>4 - 8</td>\n",
       "      <td>less1</td>\n",
       "      <td>1</td>\n",
       "      <td>0</td>\n",
       "      <td>0</td>\n",
       "      <td>0</td>\n",
       "      <td>1</td>\n",
       "      <td>1</td>\n",
       "      <td>less than 1</td>\n",
       "      <td>≤25</td>\n",
       "    </tr>\n",
       "    <tr>\n",
       "      <th>35</th>\n",
       "      <td>Home</td>\n",
       "      <td>Alone</td>\n",
       "      <td>Sunny</td>\n",
       "      <td>55</td>\n",
       "      <td>6PM</td>\n",
       "      <td>Bar</td>\n",
       "      <td>1d</td>\n",
       "      <td>Male</td>\n",
       "      <td>21 - 25</td>\n",
       "      <td>Single</td>\n",
       "      <td>...</td>\n",
       "      <td>4 - 8</td>\n",
       "      <td>less1</td>\n",
       "      <td>1</td>\n",
       "      <td>0</td>\n",
       "      <td>0</td>\n",
       "      <td>1</td>\n",
       "      <td>0</td>\n",
       "      <td>1</td>\n",
       "      <td>less than 1</td>\n",
       "      <td>≤25</td>\n",
       "    </tr>\n",
       "    <tr>\n",
       "      <th>...</th>\n",
       "      <td>...</td>\n",
       "      <td>...</td>\n",
       "      <td>...</td>\n",
       "      <td>...</td>\n",
       "      <td>...</td>\n",
       "      <td>...</td>\n",
       "      <td>...</td>\n",
       "      <td>...</td>\n",
       "      <td>...</td>\n",
       "      <td>...</td>\n",
       "      <td>...</td>\n",
       "      <td>...</td>\n",
       "      <td>...</td>\n",
       "      <td>...</td>\n",
       "      <td>...</td>\n",
       "      <td>...</td>\n",
       "      <td>...</td>\n",
       "      <td>...</td>\n",
       "      <td>...</td>\n",
       "      <td>...</td>\n",
       "      <td>...</td>\n",
       "    </tr>\n",
       "    <tr>\n",
       "      <th>12663</th>\n",
       "      <td>No Urgent Place</td>\n",
       "      <td>Friend</td>\n",
       "      <td>Sunny</td>\n",
       "      <td>80</td>\n",
       "      <td>10PM</td>\n",
       "      <td>Bar</td>\n",
       "      <td>1d</td>\n",
       "      <td>Male</td>\n",
       "      <td>26 - 30</td>\n",
       "      <td>Single</td>\n",
       "      <td>...</td>\n",
       "      <td>4 - 8</td>\n",
       "      <td>1 - 3</td>\n",
       "      <td>1</td>\n",
       "      <td>1</td>\n",
       "      <td>0</td>\n",
       "      <td>0</td>\n",
       "      <td>1</td>\n",
       "      <td>0</td>\n",
       "      <td>less than 1</td>\n",
       "      <td>&gt;25</td>\n",
       "    </tr>\n",
       "    <tr>\n",
       "      <th>12664</th>\n",
       "      <td>No Urgent Place</td>\n",
       "      <td>Friend</td>\n",
       "      <td>Sunny</td>\n",
       "      <td>55</td>\n",
       "      <td>10PM</td>\n",
       "      <td>Bar</td>\n",
       "      <td>2h</td>\n",
       "      <td>Male</td>\n",
       "      <td>26 - 30</td>\n",
       "      <td>Single</td>\n",
       "      <td>...</td>\n",
       "      <td>4 - 8</td>\n",
       "      <td>1 - 3</td>\n",
       "      <td>1</td>\n",
       "      <td>1</td>\n",
       "      <td>0</td>\n",
       "      <td>0</td>\n",
       "      <td>1</td>\n",
       "      <td>0</td>\n",
       "      <td>less than 1</td>\n",
       "      <td>&gt;25</td>\n",
       "    </tr>\n",
       "    <tr>\n",
       "      <th>12667</th>\n",
       "      <td>No Urgent Place</td>\n",
       "      <td>Alone</td>\n",
       "      <td>Rainy</td>\n",
       "      <td>55</td>\n",
       "      <td>10AM</td>\n",
       "      <td>Bar</td>\n",
       "      <td>1d</td>\n",
       "      <td>Male</td>\n",
       "      <td>26 - 30</td>\n",
       "      <td>Single</td>\n",
       "      <td>...</td>\n",
       "      <td>4 - 8</td>\n",
       "      <td>1 - 3</td>\n",
       "      <td>1</td>\n",
       "      <td>1</td>\n",
       "      <td>0</td>\n",
       "      <td>0</td>\n",
       "      <td>1</td>\n",
       "      <td>0</td>\n",
       "      <td>less than 1</td>\n",
       "      <td>&gt;25</td>\n",
       "    </tr>\n",
       "    <tr>\n",
       "      <th>12670</th>\n",
       "      <td>No Urgent Place</td>\n",
       "      <td>Partner</td>\n",
       "      <td>Rainy</td>\n",
       "      <td>55</td>\n",
       "      <td>6PM</td>\n",
       "      <td>Bar</td>\n",
       "      <td>2h</td>\n",
       "      <td>Male</td>\n",
       "      <td>26 - 30</td>\n",
       "      <td>Single</td>\n",
       "      <td>...</td>\n",
       "      <td>4 - 8</td>\n",
       "      <td>1 - 3</td>\n",
       "      <td>1</td>\n",
       "      <td>1</td>\n",
       "      <td>0</td>\n",
       "      <td>0</td>\n",
       "      <td>1</td>\n",
       "      <td>0</td>\n",
       "      <td>less than 1</td>\n",
       "      <td>&gt;25</td>\n",
       "    </tr>\n",
       "    <tr>\n",
       "      <th>12682</th>\n",
       "      <td>Work</td>\n",
       "      <td>Alone</td>\n",
       "      <td>Snowy</td>\n",
       "      <td>30</td>\n",
       "      <td>7AM</td>\n",
       "      <td>Bar</td>\n",
       "      <td>1d</td>\n",
       "      <td>Male</td>\n",
       "      <td>26 - 30</td>\n",
       "      <td>Single</td>\n",
       "      <td>...</td>\n",
       "      <td>4 - 8</td>\n",
       "      <td>1 - 3</td>\n",
       "      <td>1</td>\n",
       "      <td>1</td>\n",
       "      <td>1</td>\n",
       "      <td>0</td>\n",
       "      <td>1</td>\n",
       "      <td>0</td>\n",
       "      <td>less than 1</td>\n",
       "      <td>&gt;25</td>\n",
       "    </tr>\n",
       "  </tbody>\n",
       "</table>\n",
       "<p>1818 rows × 27 columns</p>\n",
       "</div>"
      ],
      "text/plain": [
       "           destination passanger weather  temperature  time coupon expiration  \\\n",
       "9      No Urgent Place       Kid   Sunny           80  10AM    Bar         1d   \n",
       "13                Home     Alone   Sunny           55   6PM    Bar         1d   \n",
       "17                Work     Alone   Sunny           55   7AM    Bar         1d   \n",
       "24     No Urgent Place    Friend   Sunny           80  10AM    Bar         1d   \n",
       "35                Home     Alone   Sunny           55   6PM    Bar         1d   \n",
       "...                ...       ...     ...          ...   ...    ...        ...   \n",
       "12663  No Urgent Place    Friend   Sunny           80  10PM    Bar         1d   \n",
       "12664  No Urgent Place    Friend   Sunny           55  10PM    Bar         2h   \n",
       "12667  No Urgent Place     Alone   Rainy           55  10AM    Bar         1d   \n",
       "12670  No Urgent Place   Partner   Rainy           55   6PM    Bar         2h   \n",
       "12682             Work     Alone   Snowy           30   7AM    Bar         1d   \n",
       "\n",
       "       gender      age      maritalStatus  ...  RestaurantLessThan20  \\\n",
       "9      Female  21 - 25  Unmarried partner  ...                 4 - 8   \n",
       "13     Female  21 - 25  Unmarried partner  ...                 4 - 8   \n",
       "17     Female  21 - 25  Unmarried partner  ...                 4 - 8   \n",
       "24       Male  21 - 25             Single  ...                 4 - 8   \n",
       "35       Male  21 - 25             Single  ...                 4 - 8   \n",
       "...       ...      ...                ...  ...                   ...   \n",
       "12663    Male  26 - 30             Single  ...                 4 - 8   \n",
       "12664    Male  26 - 30             Single  ...                 4 - 8   \n",
       "12667    Male  26 - 30             Single  ...                 4 - 8   \n",
       "12670    Male  26 - 30             Single  ...                 4 - 8   \n",
       "12682    Male  26 - 30             Single  ...                 4 - 8   \n",
       "\n",
       "      Restaurant20To50 toCoupon_GEQ5min toCoupon_GEQ15min toCoupon_GEQ25min  \\\n",
       "9                1 - 3                1                 1                 0   \n",
       "13               1 - 3                1                 0                 0   \n",
       "17               1 - 3                1                 1                 1   \n",
       "24               less1                1                 0                 0   \n",
       "35               less1                1                 0                 0   \n",
       "...                ...              ...               ...               ...   \n",
       "12663            1 - 3                1                 1                 0   \n",
       "12664            1 - 3                1                 1                 0   \n",
       "12667            1 - 3                1                 1                 0   \n",
       "12670            1 - 3                1                 1                 0   \n",
       "12682            1 - 3                1                 1                 1   \n",
       "\n",
       "      direction_same direction_opp Accepted    bar_group  age_group  \n",
       "9                  0             1        0  less than 1        ≤25  \n",
       "13                 1             0        1  less than 1        ≤25  \n",
       "17                 0             1        0  less than 1        ≤25  \n",
       "24                 0             1        1  less than 1        ≤25  \n",
       "35                 1             0        1  less than 1        ≤25  \n",
       "...              ...           ...      ...          ...        ...  \n",
       "12663              0             1        0  less than 1        >25  \n",
       "12664              0             1        0  less than 1        >25  \n",
       "12667              0             1        0  less than 1        >25  \n",
       "12670              0             1        0  less than 1        >25  \n",
       "12682              0             1        0  less than 1        >25  \n",
       "\n",
       "[1818 rows x 27 columns]"
      ]
     },
     "execution_count": 175,
     "metadata": {},
     "output_type": "execute_result"
    }
   ],
   "source": [
    "#First extract rows with 'bar' column values of never, less1 and 1 - 3\n",
    "Bar_3_or_less_times = data_bar[(data_bar[\"Bar\"].str.contains(\"never|less1|1 - 3\"))]\n",
    "\n",
    "#Dataframe with the selected rows\n",
    "Bar_3_or_less_times"
   ]
  },
  {
   "cell_type": "code",
   "execution_count": 176,
   "metadata": {},
   "outputs": [
    {
     "data": {
      "text/plain": [
       "Text(0.5, 1.0, \"Percentage of drivers' groups from those who accepted Bar coupons\")"
      ]
     },
     "execution_count": 176,
     "metadata": {},
     "output_type": "execute_result"
    },
    {
     "data": {
      "image/png": "[encoded data removed]",
      "text/plain": [
       "<Figure size 864x576 with 1 Axes>"
      ]
     },
     "metadata": {},
     "output_type": "display_data"
    }
   ],
   "source": [
    "#Second calculate the number accepted coupons for the remaining group. This is done by subtracting the sum of \n",
    "#people accepted in Bar_3_or_less_times from the sum of people accepted in the bar coupon dataframe \n",
    "\n",
    "\n",
    "Bar_more_than_3_times = data_bar['Accepted'].sum() - Bar_3_or_less_times['Accepted'].sum()\n",
    "\n",
    "#Finally, a Pie plot showing the comparison\n",
    "plt.figure(figsize=(12,8))\n",
    "labels = ['Group who went to a bar 3 or fewer times a month' , 'Group who went to a bar more than 3 times a month']\n",
    "Pie = [Bar_3_or_less_times['Accepted'].sum(), Bar_more_than_3_times]\n",
    "plt.pie(Pie, autopct='%.0f%%', explode = [0.05,0.05], labels = labels)\n",
    "plt.title(\"Percentage of drivers' groups from those who accepted Bar coupons\", {\"size\" : 16})"
   ]
  },
  {
   "attachments": {},
   "cell_type": "markdown",
   "metadata": {},
   "source": [
    "The above Pie chart shows that 81% of people accepting bar coupons are those went to a bar 3 or fewer times a month. In other words, bar coupons tend to be accepted more by less frequent bar customers.\n",
    "\n",
    "\n",
    "I must note here that, if we look at the crosstabulation we will find that 36 out of 49 drivers who visit a bar more than 8 times a month accepted the coupon. That is a 73% acceptance rate. Also, 117 out of 150 drivers who visit a bar from 4 to 8 times a month accepted the coupon (even higher 78% acceptance rate). The pie chart above shows the remaining group with an acceptance rate of 19%, which is correct. However, the pie chart did not consider the difference in sample size for each visiting group. In other words, because we do not have equal group sizes comparing rates in this manner is truly unfair and will lead to serious bias."
   ]
  },
  {
   "cell_type": "code",
   "execution_count": 177,
   "metadata": {},
   "outputs": [
    {
     "name": "stdout",
     "output_type": "stream",
     "text": [
      "0.37073707370737075 0.7688442211055276\n"
     ]
    }
   ],
   "source": [
    "#In this demo, I will calculate the percentage of drivers who went to the bar 3 times or less relative to their\n",
    "# sample size group\n",
    "\n",
    "\n",
    "#From the cross table and using the equation: \n",
    "#(total drivers who accepted the coupon) / (total number of drivers in the bar visit group)\n",
    "\n",
    "\n",
    "Row_percentage_of_Bar_3_or_less_times = (164 + 253 + 257)/(851 + 570 + 397)\n",
    "\n",
    "Row_percentage_of_Bar_more_than_3_times = (117 + 36)/(49 + 150)\n",
    "\n",
    "print(Row_percentage_of_Bar_3_or_less_times,Row_percentage_of_Bar_more_than_3_times)"
   ]
  },
  {
   "attachments": {},
   "cell_type": "markdown",
   "metadata": {},
   "source": [
    "Based on the calculated percentages, out of drivers who went to a bar 3 or fewer times a month have only 37% are accepting the Bar coupon compared to 77% accepting the coupon from drivers who went to a bar more than 3 times a month."
   ]
  },
  {
   "cell_type": "markdown",
   "metadata": {},
   "source": [
    "4. Compare the acceptance rate between drivers who go to a bar more than once a month and are over the age of 25 to the all others.  Is there a difference?\n"
   ]
  },
  {
   "cell_type": "code",
   "execution_count": 178,
   "metadata": {},
   "outputs": [],
   "source": [
    "#I will repeat the same method as the previous question\n",
    "\n",
    "bar_more_than_1_and_age_over_25 = data_bar[((data_bar[\"Bar\"].str.contains(\"1 - 3|4 - 8|gt8\"))) \n",
    "               & ((data_bar[\"age\"].str.contains(\"26 - 30|31 - 35|36 - 40|41 - 45|46-50|50+\")))]"
   ]
  },
  {
   "cell_type": "code",
   "execution_count": 179,
   "metadata": {},
   "outputs": [
    {
     "data": {
      "text/plain": [
       "Text(0.5, 1.0, \"Percentage of drivers' groups from those who accepted Bar coupons\")"
      ]
     },
     "execution_count": 179,
     "metadata": {},
     "output_type": "execute_result"
    },
    {
     "data": {
      "image/png": "[encoded data removed]",
      "text/plain": [
       "<Figure size 864x576 with 1 Axes>"
      ]
     },
     "metadata": {},
     "output_type": "display_data"
    }
   ],
   "source": [
    "#Second calculate the number accepted coupons for the remaining group. This is done by subtracting the sum of \n",
    "#people accepted in Bar_3_or_less_times from the sum of people accepted in the bar coupon dataframe \n",
    " \n",
    "\n",
    "remaining_group2 = data_bar['Accepted'].sum() - bar_more_than_1_and_age_over_25['Accepted'].sum()\n",
    "\n",
    "#Finally a pie chart showing the comparison in parentages\n",
    "plt.figure(figsize=(12,8))\n",
    "labels = ['Group who went to bar more than once a month and are over the age of 25' , 'Remaining group']\n",
    "Pie2 = [bar_more_than_1_and_age_over_25['Accepted'].sum(), remaining_group2]\n",
    "plt.pie(Pie2, autopct='%.0f%%', explode = [0.05,0.05], labels = labels)\n",
    "plt.title(\"Percentage of drivers' groups from those who accepted Bar coupons\", {\"size\" : 16})"
   ]
  },
  {
   "cell_type": "markdown",
   "metadata": {},
   "source": [
    "From the above pie chart, we can see that drivers who visit the bar more than once a month and are over 25 years tend to accept the bar coupon less often than the remaining group."
   ]
  },
  {
   "cell_type": "markdown",
   "metadata": {},
   "source": [
    "5. Use the same process to compare the acceptance rate between drivers who go to bars more than once a month and had passengers that were not a kid and had occupations other than farming, fishing, or forestry. \n"
   ]
  },
  {
   "cell_type": "code",
   "execution_count": 180,
   "metadata": {},
   "outputs": [
    {
     "data": {
      "text/plain": [
       "Alone      1200\n",
       "Friend      337\n",
       "Partner     274\n",
       "Kid         206\n",
       "Name: passanger, dtype: int64"
      ]
     },
     "execution_count": 180,
     "metadata": {},
     "output_type": "execute_result"
    }
   ],
   "source": [
    "data_bar['passanger'].value_counts()"
   ]
  },
  {
   "cell_type": "code",
   "execution_count": 181,
   "metadata": {},
   "outputs": [
    {
     "data": {
      "text/plain": [
       "Unemployed                                   301\n",
       "Student                                      251\n",
       "Computer & Mathematical                      232\n",
       "Sales & Related                              178\n",
       "Education&Training&Library                   140\n",
       "Management                                   119\n",
       "Office & Administrative Support              105\n",
       "Arts Design Entertainment Sports & Media     100\n",
       "Business & Financial                          89\n",
       "Retired                                       75\n",
       "Food Preparation & Serving Related            48\n",
       "Community & Social Services                   44\n",
       "Healthcare Support                            44\n",
       "Healthcare Practitioners & Technical          41\n",
       "Transportation & Material Moving              35\n",
       "Legal                                         34\n",
       "Architecture & Engineering                    27\n",
       "Personal Care & Service                       27\n",
       "Protective Service                            27\n",
       "Construction & Extraction                     24\n",
       "Life Physical Social Science                  24\n",
       "Installation Maintenance & Repair             18\n",
       "Production Occupations                        18\n",
       "Farming Fishing & Forestry                     9\n",
       "Building & Grounds Cleaning & Maintenance      7\n",
       "Name: occupation, dtype: int64"
      ]
     },
     "execution_count": 181,
     "metadata": {},
     "output_type": "execute_result"
    }
   ],
   "source": [
    "data_bar['occupation'].value_counts()"
   ]
  },
  {
   "cell_type": "code",
   "execution_count": 182,
   "metadata": {},
   "outputs": [],
   "source": [
    "#Condition here is defined as: drivers who go to bars more than once a month and had passengers that were not a \n",
    "#kid and had occupations other than farming, fishing, or forestry.\n",
    "\n",
    "Condition = data_bar[((data_bar[\"Bar\"].str.contains(\"1 - 3|4 - 8|gt8\"))) \n",
    "               & ((data_bar[\"passanger\"].str.contains(\"Kid\") == False)) & \n",
    "                ((data_bar[\"occupation\"].str.contains(\"Farming Fishing & Forestry\") == False))]\n",
    "remaining_group3 = data_bar['Accepted'].sum() - Condition['Accepted'].sum()\n"
   ]
  },
  {
   "cell_type": "code",
   "execution_count": 183,
   "metadata": {},
   "outputs": [
    {
     "data": {
      "text/plain": [
       "Text(0.5, 1.0, \"Percentage of drivers' groups from those who accepted Bar coupons\")"
      ]
     },
     "execution_count": 183,
     "metadata": {},
     "output_type": "execute_result"
    },
    {
     "data": {
      "image/png": "[encoded data removed]",
      "text/plain": [
       "<Figure size 864x576 with 1 Axes>"
      ]
     },
     "metadata": {},
     "output_type": "display_data"
    }
   ],
   "source": [
    "plt.figure(figsize=(12,8))\n",
    "labels = ['Condition' , 'Remaining group']\n",
    "Pie3 = [Condition['Accepted'].sum(), remaining_group3]\n",
    "plt.pie(Pie3, autopct='%.0f%%', explode = [0.05,0.05], labels = labels)\n",
    "plt.title(\"Percentage of drivers' groups from those who accepted Bar coupons\", {\"size\" : 16})"
   ]
  },
  {
   "attachments": {},
   "cell_type": "markdown",
   "metadata": {},
   "source": [
    "We can interpret the remaining group in this pie chart. The remaining group is basically drivers who visit the bar less than once a month, who have kid(s) as passenger, and work in farming, fishing, or forestry. This remaining group had a higher bar coupon acceptance than the group who does not fulfill these criteria."
   ]
  },
  {
   "cell_type": "markdown",
   "metadata": {},
   "source": [
    "6. Compare the acceptance rates between those passengers who:\n",
    "\n",
    "- go to bars more than once a month, had passengers that were not a kid, and were not widowed *OR*\n",
    "- go to bars more than once a month and are under the age of 30 *OR*\n",
    "- go to cheap restaurants more than 4 times a month and income is less than 50K. \n",
    "\n"
   ]
  },
  {
   "cell_type": "code",
   "execution_count": 184,
   "metadata": {},
   "outputs": [],
   "source": [
    "#Condition1 is go to bars more than once a month, had passengers that were not a kid, and were not widowed \n",
    "#Condition2 is go to bars more than once a month and are under the age of 30 \n",
    "#Condition3 is go to cheap restaurants more than 4 times a month and income is less than 50K\n",
    "\n",
    "Condition1 = data_bar[((data_bar[\"Bar\"].str.contains(\"1 - 3|4 - 8|gt8\"))) \n",
    "               & ((data_bar[\"passanger\"].str.contains(\"Kid\") == False)) & \n",
    "                ((data_bar[\"maritalStatus\"].str.contains(\"Widowed\") == False))]\n",
    "\n",
    "Condition2 = data_bar[((data_bar[\"Bar\"].str.contains(\"1 - 3|4 - 8|gt8\"))) \n",
    "               & ((data_bar[\"age\"].str.contains(\"<21|21 - 25|26 - 30\")))]\n",
    "\n",
    "Condition3 = data_bar[((data_bar[\"RestaurantLessThan20\"].str.contains(\"4 - 8|gt8\"))) \n",
    "                & ((data_bar[\"income\"].str.contains(\"Less than 12500|12500 - 24999|25000 - 37499|37500 - 49999\")))]"
   ]
  },
  {
   "cell_type": "code",
   "execution_count": 185,
   "metadata": {},
   "outputs": [
    {
     "data": {
      "text/plain": [
       "1    393\n",
       "0    158\n",
       "Name: Accepted, dtype: int64"
      ]
     },
     "execution_count": 185,
     "metadata": {},
     "output_type": "execute_result"
    }
   ],
   "source": [
    "Condition1['Accepted'].value_counts()"
   ]
  },
  {
   "cell_type": "code",
   "execution_count": 186,
   "metadata": {},
   "outputs": [],
   "source": [
    "remaining_group4 = data_bar['Accepted'].sum() - Condition1['Accepted'].sum()"
   ]
  },
  {
   "cell_type": "code",
   "execution_count": 187,
   "metadata": {},
   "outputs": [
    {
     "data": {
      "text/plain": [
       "1    249\n",
       "0     96\n",
       "Name: Accepted, dtype: int64"
      ]
     },
     "execution_count": 187,
     "metadata": {},
     "output_type": "execute_result"
    }
   ],
   "source": [
    "Condition2['Accepted'].value_counts()"
   ]
  },
  {
   "cell_type": "code",
   "execution_count": 188,
   "metadata": {},
   "outputs": [],
   "source": [
    "remaining_group5 = data_bar['Accepted'].sum() - Condition2['Accepted'].sum()"
   ]
  },
  {
   "cell_type": "code",
   "execution_count": 189,
   "metadata": {},
   "outputs": [
    {
     "data": {
      "text/plain": [
       "0    188\n",
       "1    156\n",
       "Name: Accepted, dtype: int64"
      ]
     },
     "execution_count": 189,
     "metadata": {},
     "output_type": "execute_result"
    }
   ],
   "source": [
    "Condition3['Accepted'].value_counts()"
   ]
  },
  {
   "cell_type": "code",
   "execution_count": 190,
   "metadata": {},
   "outputs": [],
   "source": [
    "remaining_group6 = data_bar['Accepted'].sum() - Condition3['Accepted'].sum()"
   ]
  },
  {
   "cell_type": "code",
   "execution_count": 191,
   "metadata": {},
   "outputs": [],
   "source": [
    "#Creating a dataframe with the total acceptance counts for each condition\n",
    "Acc_data = [[\"Condition1\", 393],[\"Condition2\", 249],[\"Condition2\", 156]]\n",
    "AccdataQ6 = pd.DataFrame(Acc_data, columns=[\"Different Conditions\", \"Number of Bar Coupon Accepted\"])"
   ]
  },
  {
   "cell_type": "code",
   "execution_count": 192,
   "metadata": {},
   "outputs": [
    {
     "data": {
      "text/html": [
       "<div>\n",
       "<style scoped>\n",
       "    .dataframe tbody tr th:only-of-type {\n",
       "        vertical-align: middle;\n",
       "    }\n",
       "\n",
       "    .dataframe tbody tr th {\n",
       "        vertical-align: top;\n",
       "    }\n",
       "\n",
       "    .dataframe thead th {\n",
       "        text-align: right;\n",
       "    }\n",
       "</style>\n",
       "<table border=\"1\" class=\"dataframe\">\n",
       "  <thead>\n",
       "    <tr style=\"text-align: right;\">\n",
       "      <th></th>\n",
       "      <th>Different Conditions</th>\n",
       "      <th>Number of Bar Coupon Accepted</th>\n",
       "    </tr>\n",
       "  </thead>\n",
       "  <tbody>\n",
       "    <tr>\n",
       "      <th>0</th>\n",
       "      <td>Condition1</td>\n",
       "      <td>393</td>\n",
       "    </tr>\n",
       "    <tr>\n",
       "      <th>1</th>\n",
       "      <td>Condition2</td>\n",
       "      <td>249</td>\n",
       "    </tr>\n",
       "    <tr>\n",
       "      <th>2</th>\n",
       "      <td>Condition2</td>\n",
       "      <td>156</td>\n",
       "    </tr>\n",
       "  </tbody>\n",
       "</table>\n",
       "</div>"
      ],
      "text/plain": [
       "  Different Conditions  Number of Bar Coupon Accepted\n",
       "0           Condition1                            393\n",
       "1           Condition2                            249\n",
       "2           Condition2                            156"
      ]
     },
     "execution_count": 192,
     "metadata": {},
     "output_type": "execute_result"
    }
   ],
   "source": [
    "AccdataQ6"
   ]
  },
  {
   "cell_type": "code",
   "execution_count": 193,
   "metadata": {},
   "outputs": [
    {
     "data": {
      "text/plain": [
       "Text(0.5, 1.0, 'Bar Coupon Acceptance Counts')"
      ]
     },
     "execution_count": 193,
     "metadata": {},
     "output_type": "execute_result"
    },
    {
     "data": {
      "image/png": "[encoded data removed]",
      "text/plain": [
       "<Figure size 864x576 with 1 Axes>"
      ]
     },
     "metadata": {},
     "output_type": "display_data"
    }
   ],
   "source": [
    "AccdataQ6.plot(x=\"Different Conditions\", y=\"Number of Bar Coupon Accepted\", kind = 'bar', figsize=(12, 8), rot = 0)\n",
    "plt.ylabel(\"Count\")\n",
    "plt.title(\"Bar Coupon Acceptance Counts\")"
   ]
  },
  {
   "attachments": {},
   "cell_type": "markdown",
   "metadata": {},
   "source": [
    "The bar chart above shows that drivers who go to bars more than once a month, had passengers that were not a kid, and were not widowed (i.e. Condition 1) have accepted higher number of bar coupons than other conditions."
   ]
  },
  {
   "cell_type": "code",
   "execution_count": 194,
   "metadata": {},
   "outputs": [
    {
     "data": {
      "text/plain": [
       "([<matplotlib.patches.Wedge at 0x7fb8948ff9d0>,\n",
       "  <matplotlib.patches.Wedge at 0x7fb89490d130>],\n",
       " [Text(-0.6423070599908843, 0.9539086123344662, 'Condition3'),\n",
       "  Text(0.6423070599908842, -0.9539086123344662, 'Remaining group')],\n",
       " [Text(-0.3630431208644128, 0.5391657374064374, '19%'),\n",
       "  Text(0.3630431208644127, -0.5391657374064374, '81%')])"
      ]
     },
     "execution_count": 194,
     "metadata": {},
     "output_type": "execute_result"
    },
    {
     "data": {
      "image/png": "[encoded data removed]",
      "text/plain": [
       "<Figure size 1296x576 with 3 Axes>"
      ]
     },
     "metadata": {},
     "output_type": "display_data"
    }
   ],
   "source": [
    "plt.figure(figsize=(18,8))\n",
    "plt.subplot(131)\n",
    "labels = ['Condition1' , 'Remaining group']\n",
    "Pie4 = [Condition1['Accepted'].sum(), remaining_group4]\n",
    "plt.pie(Pie4, autopct='%.0f%%', explode = [0.05,0.05], labels = labels)\n",
    "\n",
    "plt.subplot(132)\n",
    "labels = ['Condition2' , 'Remaining group']\n",
    "Pie5 = [Condition2['Accepted'].sum(), remaining_group5]\n",
    "plt.pie(Pie4, autopct='%.0f%%', explode = [0.05,0.05], labels = labels)\n",
    "plt.title(\"Percentage of drivers' groups from those who accepted Bar coupons\", {\"size\" : 16})\n",
    "\n",
    "plt.subplot(133)\n",
    "labels = ['Condition3' , 'Remaining group']\n",
    "Pie6 = [Condition3['Accepted'].sum(), remaining_group6]\n",
    "plt.pie(Pie6, autopct='%.0f%%', explode = [0.05,0.05], labels = labels, startangle = 90)\n"
   ]
  },
  {
   "attachments": {},
   "cell_type": "markdown",
   "metadata": {},
   "source": [
    "These pie charts show each condition relative to its own dataset. There is no big difference between condition 1 and 2 and the corresponding remaining groups. For condition 3 plot, drivers who go to a cheap restaurants more than 4 times a month and have an income less than 50K are less likely to accept the bar coupon compared to the remaining group."
   ]
  },
  {
   "cell_type": "markdown",
   "metadata": {},
   "source": [
    "# Extras"
   ]
  },
  {
   "cell_type": "markdown",
   "metadata": {},
   "source": [
    "Hypothesis testing\n",
    "\n",
    "Null hypothesis: There is no association between age group (≤25 and >25) and bar group (less than once a month and more than once a month). \n",
    "Alternative hypothesis: There is an association between age groups (≤25 and >25) and bar groups (less than once a month and more than once a month)."
   ]
  },
  {
   "cell_type": "code",
   "execution_count": 195,
   "metadata": {},
   "outputs": [],
   "source": [
    "#using the appropriate library\n",
    "import scipy.stats as stats"
   ]
  },
  {
   "cell_type": "code",
   "execution_count": 196,
   "metadata": {},
   "outputs": [],
   "source": [
    "#Defiening a dataframe with sum of values of accepted bar coupons for each group \n",
    "ctab = pd.crosstab(data_bar['bar_group'], data_bar['age_group'], values = data_bar.Accepted, aggfunc='sum'\n",
    "                   ,margins=True, margins_name=\"Total\")"
   ]
  },
  {
   "cell_type": "code",
   "execution_count": 197,
   "metadata": {},
   "outputs": [
    {
     "data": {
      "text/html": [
       "<div>\n",
       "<style scoped>\n",
       "    .dataframe tbody tr th:only-of-type {\n",
       "        vertical-align: middle;\n",
       "    }\n",
       "\n",
       "    .dataframe tbody tr th {\n",
       "        vertical-align: top;\n",
       "    }\n",
       "\n",
       "    .dataframe thead th {\n",
       "        text-align: right;\n",
       "    }\n",
       "</style>\n",
       "<table border=\"1\" class=\"dataframe\">\n",
       "  <thead>\n",
       "    <tr style=\"text-align: right;\">\n",
       "      <th>age_group</th>\n",
       "      <th>&gt;25</th>\n",
       "      <th>≤25</th>\n",
       "      <th>Total</th>\n",
       "    </tr>\n",
       "    <tr>\n",
       "      <th>bar_group</th>\n",
       "      <th></th>\n",
       "      <th></th>\n",
       "      <th></th>\n",
       "    </tr>\n",
       "  </thead>\n",
       "  <tbody>\n",
       "    <tr>\n",
       "      <th>less than 1</th>\n",
       "      <td>288</td>\n",
       "      <td>129</td>\n",
       "      <td>417</td>\n",
       "    </tr>\n",
       "    <tr>\n",
       "      <th>more than 1</th>\n",
       "      <td>292</td>\n",
       "      <td>118</td>\n",
       "      <td>410</td>\n",
       "    </tr>\n",
       "    <tr>\n",
       "      <th>Total</th>\n",
       "      <td>580</td>\n",
       "      <td>247</td>\n",
       "      <td>827</td>\n",
       "    </tr>\n",
       "  </tbody>\n",
       "</table>\n",
       "</div>"
      ],
      "text/plain": [
       "age_group    >25  ≤25  Total\n",
       "bar_group                   \n",
       "less than 1  288  129    417\n",
       "more than 1  292  118    410\n",
       "Total        580  247    827"
      ]
     },
     "execution_count": 197,
     "metadata": {},
     "output_type": "execute_result"
    }
   ],
   "source": [
    "ctab"
   ]
  },
  {
   "cell_type": "code",
   "execution_count": 198,
   "metadata": {},
   "outputs": [
    {
     "name": "stdout",
     "output_type": "stream",
     "text": [
      "Hypothesis testing\n",
      "chisquare-score is: 0.45824727817300814  and p value is: 0.49844425119589597\n",
      "Failed to reject the null hypothesis.\n"
     ]
    }
   ],
   "source": [
    "#Defining the alpha level, observed, and expected values\n",
    "#then calculating the p-value which must not exceed the alpha level in order to reject the null hypothesis\n",
    "\n",
    "\n",
    "alpha = 0.05\n",
    "chi_square = 0\n",
    "rows = data_bar['bar_group'].unique()\n",
    "columns = data_bar['age_group'].unique()\n",
    "for i in columns:\n",
    "    for j in rows:\n",
    "        O = ctab[i][j]\n",
    "        E = ctab[i]['Total'] * ctab['Total'][j] / ctab['Total']['Total']\n",
    "        chi_square += (O-E)**2/E\n",
    "\n",
    "# The p-value approach\n",
    "print(\"Hypothesis testing\")\n",
    "p_value = 1 - stats.chi2.cdf(chi_square, (len(rows)-1)*(len(columns)-1))\n",
    "conclusion = \"Failed to reject the null hypothesis.\"\n",
    "if p_value <= alpha:\n",
    "    conclusion = \"Null Hypothesis is rejected.\"\n",
    "        \n",
    "print(\"chisquare-score is:\", chi_square, \" and p value is:\", p_value)\n",
    "print(conclusion)"
   ]
  },
  {
   "cell_type": "markdown",
   "metadata": {},
   "source": [
    "7.  Based on these observations, what do you hypothesize about passengers who accepted the bar coupons?"
   ]
  },
  {
   "cell_type": "markdown",
   "metadata": {},
   "source": [
    "# Conclusion"
   ]
  },
  {
   "attachments": {},
   "cell_type": "markdown",
   "metadata": {},
   "source": [
    "Based on primary analysis, we can say that drivers who visit a bar more frequent are the ones who are most likely to accept the bar coupon. Also, there is no significant association between age group (≤25 and >25) and bar group (less than once a month and more than once a month) in terms of bar coupon acceptance rate. However, when we compare on subgroup to the rest, more than third of those who accepted bar coupons are above age 25 and are going to a bar more than once a month. The only conclusive finding is that frequent bar visitors who are more than 25a are more likely to reject the bar coupon.\n",
    "\n",
    "\n",
    "\n",
    "Further analysis maybe required to see the effects of gender, time before the bar coupon expires and distance to bar. Also, comparing unbalanced subgroups as mentioned earlier should be handled with caution."
   ]
  },
  {
   "cell_type": "markdown",
   "metadata": {},
   "source": [
    "### Independent Investigation\n",
    "\n",
    "Using the bar coupon example as motivation, you are to explore one of the other coupon groups and try to determine the characteristics of passengers who accept the coupons.  "
   ]
  },
  {
   "attachments": {},
   "cell_type": "markdown",
   "metadata": {},
   "source": [
    "Using the bar coupon example as motivation, you are to explore one of the other coupon groups and try to determine the characteristics of passengers who accept the coupons.\n",
    "I would like to investigate Coffee House coupons as in a previous chart, this was the most accepted and most rejected type compared to other coupons. I want to investigate further which groups are responsible for these contradicting findings."
   ]
  },
  {
   "cell_type": "code",
   "execution_count": 199,
   "metadata": {},
   "outputs": [],
   "source": [
    "data_CH= data.loc[data['coupon'].str.contains(\"Coffee House\")]"
   ]
  },
  {
   "cell_type": "code",
   "execution_count": 200,
   "metadata": {},
   "outputs": [
    {
     "name": "stdout",
     "output_type": "stream",
     "text": [
      "<class 'pandas.core.frame.DataFrame'>\n",
      "Int64Index: 3996 entries, 1 to 12681\n",
      "Data columns (total 27 columns):\n",
      " #   Column                Non-Null Count  Dtype \n",
      "---  ------                --------------  ----- \n",
      " 0   destination           3996 non-null   object\n",
      " 1   passanger             3996 non-null   object\n",
      " 2   weather               3996 non-null   object\n",
      " 3   temperature           3996 non-null   int64 \n",
      " 4   time                  3996 non-null   object\n",
      " 5   coupon                3996 non-null   object\n",
      " 6   expiration            3996 non-null   object\n",
      " 7   gender                3996 non-null   object\n",
      " 8   age                   3996 non-null   object\n",
      " 9   maritalStatus         3996 non-null   object\n",
      " 10  has_children          3996 non-null   int64 \n",
      " 11  education             3996 non-null   object\n",
      " 12  occupation            3996 non-null   object\n",
      " 13  income                3996 non-null   object\n",
      " 14  Bar                   3996 non-null   object\n",
      " 15  CoffeeHouse           3996 non-null   object\n",
      " 16  CarryAway             3996 non-null   object\n",
      " 17  RestaurantLessThan20  3996 non-null   object\n",
      " 18  Restaurant20To50      3996 non-null   object\n",
      " 19  toCoupon_GEQ5min      3996 non-null   int64 \n",
      " 20  toCoupon_GEQ15min     3996 non-null   int64 \n",
      " 21  toCoupon_GEQ25min     3996 non-null   int64 \n",
      " 22  direction_same        3996 non-null   int64 \n",
      " 23  direction_opp         3996 non-null   int64 \n",
      " 24  Accepted              3996 non-null   int64 \n",
      " 25  bar_group             3996 non-null   object\n",
      " 26  age_group             3996 non-null   object\n",
      "dtypes: int64(8), object(19)\n",
      "memory usage: 874.1+ KB\n"
     ]
    }
   ],
   "source": [
    "data_CH.info()"
   ]
  },
  {
   "cell_type": "code",
   "execution_count": 201,
   "metadata": {},
   "outputs": [
    {
     "data": {
      "text/html": [
       "<div>\n",
       "<style scoped>\n",
       "    .dataframe tbody tr th:only-of-type {\n",
       "        vertical-align: middle;\n",
       "    }\n",
       "\n",
       "    .dataframe tbody tr th {\n",
       "        vertical-align: top;\n",
       "    }\n",
       "\n",
       "    .dataframe thead th {\n",
       "        text-align: right;\n",
       "    }\n",
       "</style>\n",
       "<table border=\"1\" class=\"dataframe\">\n",
       "  <thead>\n",
       "    <tr style=\"text-align: right;\">\n",
       "      <th></th>\n",
       "      <th>destination</th>\n",
       "      <th>passanger</th>\n",
       "      <th>weather</th>\n",
       "      <th>temperature</th>\n",
       "      <th>time</th>\n",
       "      <th>coupon</th>\n",
       "      <th>expiration</th>\n",
       "      <th>gender</th>\n",
       "      <th>age</th>\n",
       "      <th>maritalStatus</th>\n",
       "      <th>...</th>\n",
       "      <th>RestaurantLessThan20</th>\n",
       "      <th>Restaurant20To50</th>\n",
       "      <th>toCoupon_GEQ5min</th>\n",
       "      <th>toCoupon_GEQ15min</th>\n",
       "      <th>toCoupon_GEQ25min</th>\n",
       "      <th>direction_same</th>\n",
       "      <th>direction_opp</th>\n",
       "      <th>Accepted</th>\n",
       "      <th>bar_group</th>\n",
       "      <th>age_group</th>\n",
       "    </tr>\n",
       "  </thead>\n",
       "  <tbody>\n",
       "    <tr>\n",
       "      <th>1</th>\n",
       "      <td>No Urgent Place</td>\n",
       "      <td>Friend</td>\n",
       "      <td>Sunny</td>\n",
       "      <td>80</td>\n",
       "      <td>10AM</td>\n",
       "      <td>Coffee House</td>\n",
       "      <td>2h</td>\n",
       "      <td>Female</td>\n",
       "      <td>21 - 25</td>\n",
       "      <td>Unmarried partner</td>\n",
       "      <td>...</td>\n",
       "      <td>4 - 8</td>\n",
       "      <td>1 - 3</td>\n",
       "      <td>1</td>\n",
       "      <td>0</td>\n",
       "      <td>0</td>\n",
       "      <td>0</td>\n",
       "      <td>1</td>\n",
       "      <td>0</td>\n",
       "      <td>less than 1</td>\n",
       "      <td>≤25</td>\n",
       "    </tr>\n",
       "    <tr>\n",
       "      <th>3</th>\n",
       "      <td>No Urgent Place</td>\n",
       "      <td>Friend</td>\n",
       "      <td>Sunny</td>\n",
       "      <td>80</td>\n",
       "      <td>2PM</td>\n",
       "      <td>Coffee House</td>\n",
       "      <td>2h</td>\n",
       "      <td>Female</td>\n",
       "      <td>21 - 25</td>\n",
       "      <td>Unmarried partner</td>\n",
       "      <td>...</td>\n",
       "      <td>4 - 8</td>\n",
       "      <td>1 - 3</td>\n",
       "      <td>1</td>\n",
       "      <td>1</td>\n",
       "      <td>0</td>\n",
       "      <td>0</td>\n",
       "      <td>1</td>\n",
       "      <td>0</td>\n",
       "      <td>less than 1</td>\n",
       "      <td>≤25</td>\n",
       "    </tr>\n",
       "    <tr>\n",
       "      <th>4</th>\n",
       "      <td>No Urgent Place</td>\n",
       "      <td>Friend</td>\n",
       "      <td>Sunny</td>\n",
       "      <td>80</td>\n",
       "      <td>2PM</td>\n",
       "      <td>Coffee House</td>\n",
       "      <td>1d</td>\n",
       "      <td>Female</td>\n",
       "      <td>21 - 25</td>\n",
       "      <td>Unmarried partner</td>\n",
       "      <td>...</td>\n",
       "      <td>4 - 8</td>\n",
       "      <td>1 - 3</td>\n",
       "      <td>1</td>\n",
       "      <td>1</td>\n",
       "      <td>0</td>\n",
       "      <td>0</td>\n",
       "      <td>1</td>\n",
       "      <td>0</td>\n",
       "      <td>less than 1</td>\n",
       "      <td>≤25</td>\n",
       "    </tr>\n",
       "    <tr>\n",
       "      <th>12</th>\n",
       "      <td>No Urgent Place</td>\n",
       "      <td>Kid</td>\n",
       "      <td>Sunny</td>\n",
       "      <td>55</td>\n",
       "      <td>6PM</td>\n",
       "      <td>Coffee House</td>\n",
       "      <td>2h</td>\n",
       "      <td>Female</td>\n",
       "      <td>21 - 25</td>\n",
       "      <td>Unmarried partner</td>\n",
       "      <td>...</td>\n",
       "      <td>4 - 8</td>\n",
       "      <td>1 - 3</td>\n",
       "      <td>1</td>\n",
       "      <td>1</td>\n",
       "      <td>0</td>\n",
       "      <td>0</td>\n",
       "      <td>1</td>\n",
       "      <td>1</td>\n",
       "      <td>less than 1</td>\n",
       "      <td>≤25</td>\n",
       "    </tr>\n",
       "    <tr>\n",
       "      <th>15</th>\n",
       "      <td>Home</td>\n",
       "      <td>Alone</td>\n",
       "      <td>Sunny</td>\n",
       "      <td>80</td>\n",
       "      <td>6PM</td>\n",
       "      <td>Coffee House</td>\n",
       "      <td>2h</td>\n",
       "      <td>Female</td>\n",
       "      <td>21 - 25</td>\n",
       "      <td>Unmarried partner</td>\n",
       "      <td>...</td>\n",
       "      <td>4 - 8</td>\n",
       "      <td>1 - 3</td>\n",
       "      <td>1</td>\n",
       "      <td>0</td>\n",
       "      <td>0</td>\n",
       "      <td>0</td>\n",
       "      <td>1</td>\n",
       "      <td>0</td>\n",
       "      <td>less than 1</td>\n",
       "      <td>≤25</td>\n",
       "    </tr>\n",
       "  </tbody>\n",
       "</table>\n",
       "<p>5 rows × 27 columns</p>\n",
       "</div>"
      ],
      "text/plain": [
       "        destination passanger weather  temperature  time        coupon  \\\n",
       "1   No Urgent Place    Friend   Sunny           80  10AM  Coffee House   \n",
       "3   No Urgent Place    Friend   Sunny           80   2PM  Coffee House   \n",
       "4   No Urgent Place    Friend   Sunny           80   2PM  Coffee House   \n",
       "12  No Urgent Place       Kid   Sunny           55   6PM  Coffee House   \n",
       "15             Home     Alone   Sunny           80   6PM  Coffee House   \n",
       "\n",
       "   expiration  gender      age      maritalStatus  ...  RestaurantLessThan20  \\\n",
       "1          2h  Female  21 - 25  Unmarried partner  ...                 4 - 8   \n",
       "3          2h  Female  21 - 25  Unmarried partner  ...                 4 - 8   \n",
       "4          1d  Female  21 - 25  Unmarried partner  ...                 4 - 8   \n",
       "12         2h  Female  21 - 25  Unmarried partner  ...                 4 - 8   \n",
       "15         2h  Female  21 - 25  Unmarried partner  ...                 4 - 8   \n",
       "\n",
       "   Restaurant20To50 toCoupon_GEQ5min toCoupon_GEQ15min toCoupon_GEQ25min  \\\n",
       "1             1 - 3                1                 0                 0   \n",
       "3             1 - 3                1                 1                 0   \n",
       "4             1 - 3                1                 1                 0   \n",
       "12            1 - 3                1                 1                 0   \n",
       "15            1 - 3                1                 0                 0   \n",
       "\n",
       "   direction_same direction_opp Accepted    bar_group  age_group  \n",
       "1               0             1        0  less than 1        ≤25  \n",
       "3               0             1        0  less than 1        ≤25  \n",
       "4               0             1        0  less than 1        ≤25  \n",
       "12              0             1        1  less than 1        ≤25  \n",
       "15              0             1        0  less than 1        ≤25  \n",
       "\n",
       "[5 rows x 27 columns]"
      ]
     },
     "execution_count": 201,
     "metadata": {},
     "output_type": "execute_result"
    }
   ],
   "source": [
    "data_CH.head()"
   ]
  },
  {
   "cell_type": "code",
   "execution_count": 202,
   "metadata": {},
   "outputs": [
    {
     "data": {
      "text/plain": [
       "Text(0.5, 1.0, 'Percentage of drivers who accepted Coffee House coupons')"
      ]
     },
     "execution_count": 202,
     "metadata": {},
     "output_type": "execute_result"
    },
    {
     "data": {
      "image/png": "[encoded data removed]",
      "text/plain": [
       "<Figure size 432x432 with 1 Axes>"
      ]
     },
     "metadata": {},
     "output_type": "display_data"
    }
   ],
   "source": [
    "labels = ['No','Yes']\n",
    "data_CH['Accepted'].value_counts().plot(kind='pie',autopct='%.0f%%',labels = labels, figsize = (6,6), fontsize=16)\n",
    "plt.title(\"Percentage of drivers who accepted Coffee House coupons\", {\"size\" : 16})"
   ]
  },
  {
   "cell_type": "markdown",
   "metadata": {},
   "source": [
    "As mentioned before, there is an equal chance that a driver accepts or rejects the coffee house coupon."
   ]
  },
  {
   "cell_type": "code",
   "execution_count": 203,
   "metadata": {},
   "outputs": [
    {
     "data": {
      "text/html": [
       "<div>\n",
       "<style scoped>\n",
       "    .dataframe tbody tr th:only-of-type {\n",
       "        vertical-align: middle;\n",
       "    }\n",
       "\n",
       "    .dataframe tbody tr th {\n",
       "        vertical-align: top;\n",
       "    }\n",
       "\n",
       "    .dataframe thead th {\n",
       "        text-align: right;\n",
       "    }\n",
       "</style>\n",
       "<table border=\"1\" class=\"dataframe\">\n",
       "  <thead>\n",
       "    <tr style=\"text-align: right;\">\n",
       "      <th>Accepted</th>\n",
       "      <th>0</th>\n",
       "      <th>1</th>\n",
       "    </tr>\n",
       "    <tr>\n",
       "      <th>gender</th>\n",
       "      <th></th>\n",
       "      <th></th>\n",
       "    </tr>\n",
       "  </thead>\n",
       "  <tbody>\n",
       "    <tr>\n",
       "      <th>Female</th>\n",
       "      <td>26.05</td>\n",
       "      <td>25.28</td>\n",
       "    </tr>\n",
       "    <tr>\n",
       "      <th>Male</th>\n",
       "      <td>24.02</td>\n",
       "      <td>24.65</td>\n",
       "    </tr>\n",
       "  </tbody>\n",
       "</table>\n",
       "</div>"
      ],
      "text/plain": [
       "Accepted      0      1\n",
       "gender                \n",
       "Female    26.05  25.28\n",
       "Male      24.02  24.65"
      ]
     },
     "execution_count": 203,
     "metadata": {},
     "output_type": "execute_result"
    }
   ],
   "source": [
    "round(pd.crosstab(data_CH['gender'], data_CH['Accepted'],normalize = True)*100,2)"
   ]
  },
  {
   "attachments": {},
   "cell_type": "markdown",
   "metadata": {},
   "source": [
    "Acceptance (0 = No, 1 = Yes)\n",
    "\n",
    "The crosstabulation shows no association between gender and coffee house coupon acceptance rate."
   ]
  },
  {
   "cell_type": "code",
   "execution_count": 204,
   "metadata": {},
   "outputs": [
    {
     "data": {
      "text/html": [
       "<div>\n",
       "<style scoped>\n",
       "    .dataframe tbody tr th:only-of-type {\n",
       "        vertical-align: middle;\n",
       "    }\n",
       "\n",
       "    .dataframe tbody tr th {\n",
       "        vertical-align: top;\n",
       "    }\n",
       "\n",
       "    .dataframe thead th {\n",
       "        text-align: right;\n",
       "    }\n",
       "</style>\n",
       "<table border=\"1\" class=\"dataframe\">\n",
       "  <thead>\n",
       "    <tr style=\"text-align: right;\">\n",
       "      <th>maritalStatus</th>\n",
       "      <th>Divorced</th>\n",
       "      <th>Married partner</th>\n",
       "      <th>Single</th>\n",
       "      <th>Unmarried partner</th>\n",
       "      <th>Widowed</th>\n",
       "      <th>Total</th>\n",
       "    </tr>\n",
       "    <tr>\n",
       "      <th>gender</th>\n",
       "      <th></th>\n",
       "      <th></th>\n",
       "      <th></th>\n",
       "      <th></th>\n",
       "      <th></th>\n",
       "      <th></th>\n",
       "    </tr>\n",
       "  </thead>\n",
       "  <tbody>\n",
       "    <tr>\n",
       "      <th>Female</th>\n",
       "      <td>2.81</td>\n",
       "      <td>20.35</td>\n",
       "      <td>16.44</td>\n",
       "      <td>10.63</td>\n",
       "      <td>0.40</td>\n",
       "      <td>50.63</td>\n",
       "    </tr>\n",
       "    <tr>\n",
       "      <th>Male</th>\n",
       "      <td>1.15</td>\n",
       "      <td>17.74</td>\n",
       "      <td>23.66</td>\n",
       "      <td>6.57</td>\n",
       "      <td>0.25</td>\n",
       "      <td>49.37</td>\n",
       "    </tr>\n",
       "    <tr>\n",
       "      <th>Total</th>\n",
       "      <td>3.96</td>\n",
       "      <td>38.10</td>\n",
       "      <td>40.10</td>\n",
       "      <td>17.19</td>\n",
       "      <td>0.65</td>\n",
       "      <td>100.00</td>\n",
       "    </tr>\n",
       "  </tbody>\n",
       "</table>\n",
       "</div>"
      ],
      "text/plain": [
       "maritalStatus  Divorced  Married partner  Single  Unmarried partner  Widowed  \\\n",
       "gender                                                                         \n",
       "Female             2.81            20.35   16.44              10.63     0.40   \n",
       "Male               1.15            17.74   23.66               6.57     0.25   \n",
       "Total              3.96            38.10   40.10              17.19     0.65   \n",
       "\n",
       "maritalStatus   Total  \n",
       "gender                 \n",
       "Female          50.63  \n",
       "Male            49.37  \n",
       "Total          100.00  "
      ]
     },
     "execution_count": 204,
     "metadata": {},
     "output_type": "execute_result"
    }
   ],
   "source": [
    "round(pd.crosstab(data_CH['gender'], data_CH['maritalStatus'], values = data_CH.Accepted, aggfunc='sum'\n",
    "                   ,margins=True, margins_name=\"Total\", normalize = True)*100,2)"
   ]
  },
  {
   "cell_type": "markdown",
   "metadata": {},
   "source": [
    "From this crosstabulation, we can see higher acceptance rates for married females (20%) and single males (24%)."
   ]
  },
  {
   "attachments": {},
   "cell_type": "markdown",
   "metadata": {},
   "source": [
    "Now we will investigate the education."
   ]
  },
  {
   "cell_type": "code",
   "execution_count": 205,
   "metadata": {},
   "outputs": [
    {
     "data": {
      "text/plain": [
       "Some college - no degree                  1371\n",
       "Bachelors degree                          1370\n",
       "Graduate degree (Masters or Doctorate)     598\n",
       "Associates degree                          350\n",
       "High School Graduate                       279\n",
       "Some High School                            28\n",
       "Name: education, dtype: int64"
      ]
     },
     "execution_count": 205,
     "metadata": {},
     "output_type": "execute_result"
    }
   ],
   "source": [
    "data_CH[\"education\"].value_counts()"
   ]
  },
  {
   "cell_type": "code",
   "execution_count": 206,
   "metadata": {},
   "outputs": [
    {
     "data": {
      "text/html": [
       "<div>\n",
       "<style scoped>\n",
       "    .dataframe tbody tr th:only-of-type {\n",
       "        vertical-align: middle;\n",
       "    }\n",
       "\n",
       "    .dataframe tbody tr th {\n",
       "        vertical-align: top;\n",
       "    }\n",
       "\n",
       "    .dataframe thead th {\n",
       "        text-align: right;\n",
       "    }\n",
       "</style>\n",
       "<table border=\"1\" class=\"dataframe\">\n",
       "  <thead>\n",
       "    <tr style=\"text-align: right;\">\n",
       "      <th>Accepted</th>\n",
       "      <th>0</th>\n",
       "      <th>1</th>\n",
       "      <th>Total</th>\n",
       "    </tr>\n",
       "    <tr>\n",
       "      <th>education</th>\n",
       "      <th></th>\n",
       "      <th></th>\n",
       "      <th></th>\n",
       "    </tr>\n",
       "  </thead>\n",
       "  <tbody>\n",
       "    <tr>\n",
       "      <th>Associates degree</th>\n",
       "      <td>4.23</td>\n",
       "      <td>4.53</td>\n",
       "      <td>8.76</td>\n",
       "    </tr>\n",
       "    <tr>\n",
       "      <th>Bachelors degree</th>\n",
       "      <td>18.42</td>\n",
       "      <td>15.87</td>\n",
       "      <td>34.28</td>\n",
       "    </tr>\n",
       "    <tr>\n",
       "      <th>Graduate degree (Masters or Doctorate)</th>\n",
       "      <td>7.33</td>\n",
       "      <td>7.63</td>\n",
       "      <td>14.96</td>\n",
       "    </tr>\n",
       "    <tr>\n",
       "      <th>High School Graduate</th>\n",
       "      <td>3.20</td>\n",
       "      <td>3.78</td>\n",
       "      <td>6.98</td>\n",
       "    </tr>\n",
       "    <tr>\n",
       "      <th>Some High School</th>\n",
       "      <td>0.28</td>\n",
       "      <td>0.43</td>\n",
       "      <td>0.70</td>\n",
       "    </tr>\n",
       "    <tr>\n",
       "      <th>Some college - no degree</th>\n",
       "      <td>16.62</td>\n",
       "      <td>17.69</td>\n",
       "      <td>34.31</td>\n",
       "    </tr>\n",
       "    <tr>\n",
       "      <th>Total</th>\n",
       "      <td>50.08</td>\n",
       "      <td>49.92</td>\n",
       "      <td>100.00</td>\n",
       "    </tr>\n",
       "  </tbody>\n",
       "</table>\n",
       "</div>"
      ],
      "text/plain": [
       "Accepted                                    0      1   Total\n",
       "education                                                   \n",
       "Associates degree                        4.23   4.53    8.76\n",
       "Bachelors degree                        18.42  15.87   34.28\n",
       "Graduate degree (Masters or Doctorate)   7.33   7.63   14.96\n",
       "High School Graduate                     3.20   3.78    6.98\n",
       "Some High School                         0.28   0.43    0.70\n",
       "Some college - no degree                16.62  17.69   34.31\n",
       "Total                                   50.08  49.92  100.00"
      ]
     },
     "execution_count": 206,
     "metadata": {},
     "output_type": "execute_result"
    }
   ],
   "source": [
    "round(pd.crosstab(data_CH['education'], data_CH['Accepted'],normalize = True, margins=True, \n",
    "                  margins_name=\"Total\")*100,2)"
   ]
  },
  {
   "cell_type": "markdown",
   "metadata": {},
   "source": [
    "The highest rejection and acceptance rate of coffee house coupons are from drivers who are either have a bachelors' degree or are currently in college with no degree. This is due to the sample sizes of these subgroups."
   ]
  },
  {
   "cell_type": "code",
   "execution_count": 207,
   "metadata": {},
   "outputs": [
    {
     "data": {
      "text/html": [
       "<div>\n",
       "<style scoped>\n",
       "    .dataframe tbody tr th:only-of-type {\n",
       "        vertical-align: middle;\n",
       "    }\n",
       "\n",
       "    .dataframe tbody tr th {\n",
       "        vertical-align: top;\n",
       "    }\n",
       "\n",
       "    .dataframe thead th {\n",
       "        text-align: right;\n",
       "    }\n",
       "</style>\n",
       "<table border=\"1\" class=\"dataframe\">\n",
       "  <thead>\n",
       "    <tr style=\"text-align: right;\">\n",
       "      <th>education</th>\n",
       "      <th>Associates degree</th>\n",
       "      <th>Bachelors degree</th>\n",
       "      <th>Graduate degree (Masters or Doctorate)</th>\n",
       "      <th>High School Graduate</th>\n",
       "      <th>Some High School</th>\n",
       "      <th>Some college - no degree</th>\n",
       "      <th>Total</th>\n",
       "    </tr>\n",
       "    <tr>\n",
       "      <th>gender</th>\n",
       "      <th></th>\n",
       "      <th></th>\n",
       "      <th></th>\n",
       "      <th></th>\n",
       "      <th></th>\n",
       "      <th></th>\n",
       "      <th></th>\n",
       "    </tr>\n",
       "  </thead>\n",
       "  <tbody>\n",
       "    <tr>\n",
       "      <th>Female</th>\n",
       "      <td>100</td>\n",
       "      <td>322</td>\n",
       "      <td>170</td>\n",
       "      <td>72</td>\n",
       "      <td>12</td>\n",
       "      <td>334</td>\n",
       "      <td>1010</td>\n",
       "    </tr>\n",
       "    <tr>\n",
       "      <th>Male</th>\n",
       "      <td>81</td>\n",
       "      <td>312</td>\n",
       "      <td>135</td>\n",
       "      <td>79</td>\n",
       "      <td>5</td>\n",
       "      <td>373</td>\n",
       "      <td>985</td>\n",
       "    </tr>\n",
       "    <tr>\n",
       "      <th>Total</th>\n",
       "      <td>181</td>\n",
       "      <td>634</td>\n",
       "      <td>305</td>\n",
       "      <td>151</td>\n",
       "      <td>17</td>\n",
       "      <td>707</td>\n",
       "      <td>1995</td>\n",
       "    </tr>\n",
       "  </tbody>\n",
       "</table>\n",
       "</div>"
      ],
      "text/plain": [
       "education  Associates degree  Bachelors degree  \\\n",
       "gender                                           \n",
       "Female                   100               322   \n",
       "Male                      81               312   \n",
       "Total                    181               634   \n",
       "\n",
       "education  Graduate degree (Masters or Doctorate)  High School Graduate  \\\n",
       "gender                                                                    \n",
       "Female                                        170                    72   \n",
       "Male                                          135                    79   \n",
       "Total                                         305                   151   \n",
       "\n",
       "education  Some High School  Some college - no degree  Total  \n",
       "gender                                                        \n",
       "Female                   12                       334   1010  \n",
       "Male                      5                       373    985  \n",
       "Total                    17                       707   1995  "
      ]
     },
     "execution_count": 207,
     "metadata": {},
     "output_type": "execute_result"
    }
   ],
   "source": [
    "pd.crosstab(data_CH['gender'], data_CH['education'], values = data_CH.Accepted, aggfunc='sum'\n",
    "                   ,margins=True, margins_name=\"Total\")"
   ]
  },
  {
   "cell_type": "markdown",
   "metadata": {},
   "source": [
    "From the above crosstabulation, we can see that males and females who accepted the coffee house coupon either have a bachelor's degree or are currently in college."
   ]
  },
  {
   "cell_type": "code",
   "execution_count": 209,
   "metadata": {},
   "outputs": [
    {
     "data": {
      "text/html": [
       "<div>\n",
       "<style scoped>\n",
       "    .dataframe tbody tr th:only-of-type {\n",
       "        vertical-align: middle;\n",
       "    }\n",
       "\n",
       "    .dataframe tbody tr th {\n",
       "        vertical-align: top;\n",
       "    }\n",
       "\n",
       "    .dataframe thead th {\n",
       "        text-align: right;\n",
       "    }\n",
       "</style>\n",
       "<table border=\"1\" class=\"dataframe\">\n",
       "  <thead>\n",
       "    <tr style=\"text-align: right;\">\n",
       "      <th>Accepted</th>\n",
       "      <th>0</th>\n",
       "      <th>1</th>\n",
       "      <th>Total</th>\n",
       "    </tr>\n",
       "    <tr>\n",
       "      <th>expiration</th>\n",
       "      <th></th>\n",
       "      <th></th>\n",
       "      <th></th>\n",
       "    </tr>\n",
       "  </thead>\n",
       "  <tbody>\n",
       "    <tr>\n",
       "      <th>1d</th>\n",
       "      <td>18.42</td>\n",
       "      <td>25.85</td>\n",
       "      <td>44.27</td>\n",
       "    </tr>\n",
       "    <tr>\n",
       "      <th>2h</th>\n",
       "      <td>31.66</td>\n",
       "      <td>24.07</td>\n",
       "      <td>55.73</td>\n",
       "    </tr>\n",
       "    <tr>\n",
       "      <th>Total</th>\n",
       "      <td>50.08</td>\n",
       "      <td>49.92</td>\n",
       "      <td>100.00</td>\n",
       "    </tr>\n",
       "  </tbody>\n",
       "</table>\n",
       "</div>"
      ],
      "text/plain": [
       "Accepted        0      1   Total\n",
       "expiration                      \n",
       "1d          18.42  25.85   44.27\n",
       "2h          31.66  24.07   55.73\n",
       "Total       50.08  49.92  100.00"
      ]
     },
     "execution_count": 209,
     "metadata": {},
     "output_type": "execute_result"
    }
   ],
   "source": [
    "round(pd.crosstab(data_CH['expiration'], data_CH['Accepted'],normalize = True, \n",
    "                  margins=True, margins_name=\"Total\")*100,2)"
   ]
  },
  {
   "cell_type": "code",
   "execution_count": 210,
   "metadata": {},
   "outputs": [
    {
     "data": {
      "text/plain": [
       "Text(0.5, 1.0, 'Bar plot for coffee house coupon types by Acceptance (0 = No, 1 = Yes)')"
      ]
     },
     "execution_count": 210,
     "metadata": {},
     "output_type": "execute_result"
    },
    {
     "data": {
      "image/png": "[encoded data removed]",
      "text/plain": [
       "<Figure size 864x576 with 1 Axes>"
      ]
     },
     "metadata": {},
     "output_type": "display_data"
    }
   ],
   "source": [
    "plt.figure(figsize=(12,8))\n",
    "countplot1 = sns.countplot(x= \"expiration\", data = data_CH, hue = \"Accepted\")\n",
    "countplot1.set_ylabel(\"Count\",fontsize=18)\n",
    "countplot1.set_title(\"Bar plot for coffee house coupon types by Acceptance (0 = No, 1 = Yes)\",fontsize=16)"
   ]
  },
  {
   "cell_type": "markdown",
   "metadata": {},
   "source": [
    "There is a higher chance of rejecting the coffee house coupon if it expires in 2 hours."
   ]
  },
  {
   "cell_type": "code",
   "execution_count": 211,
   "metadata": {},
   "outputs": [
    {
     "data": {
      "text/html": [
       "<div>\n",
       "<style scoped>\n",
       "    .dataframe tbody tr th:only-of-type {\n",
       "        vertical-align: middle;\n",
       "    }\n",
       "\n",
       "    .dataframe tbody tr th {\n",
       "        vertical-align: top;\n",
       "    }\n",
       "\n",
       "    .dataframe thead th {\n",
       "        text-align: right;\n",
       "    }\n",
       "</style>\n",
       "<table border=\"1\" class=\"dataframe\">\n",
       "  <thead>\n",
       "    <tr style=\"text-align: right;\">\n",
       "      <th>Accepted</th>\n",
       "      <th>0</th>\n",
       "      <th>1</th>\n",
       "      <th>Total</th>\n",
       "    </tr>\n",
       "    <tr>\n",
       "      <th>temperature</th>\n",
       "      <th></th>\n",
       "      <th></th>\n",
       "      <th></th>\n",
       "    </tr>\n",
       "  </thead>\n",
       "  <tbody>\n",
       "    <tr>\n",
       "      <th>30</th>\n",
       "      <td>4.43</td>\n",
       "      <td>3.53</td>\n",
       "      <td>7.96</td>\n",
       "    </tr>\n",
       "    <tr>\n",
       "      <th>55</th>\n",
       "      <td>17.39</td>\n",
       "      <td>14.56</td>\n",
       "      <td>31.96</td>\n",
       "    </tr>\n",
       "    <tr>\n",
       "      <th>80</th>\n",
       "      <td>28.25</td>\n",
       "      <td>31.83</td>\n",
       "      <td>60.09</td>\n",
       "    </tr>\n",
       "    <tr>\n",
       "      <th>Total</th>\n",
       "      <td>50.08</td>\n",
       "      <td>49.92</td>\n",
       "      <td>100.00</td>\n",
       "    </tr>\n",
       "  </tbody>\n",
       "</table>\n",
       "</div>"
      ],
      "text/plain": [
       "Accepted         0      1   Total\n",
       "temperature                      \n",
       "30            4.43   3.53    7.96\n",
       "55           17.39  14.56   31.96\n",
       "80           28.25  31.83   60.09\n",
       "Total        50.08  49.92  100.00"
      ]
     },
     "execution_count": 211,
     "metadata": {},
     "output_type": "execute_result"
    }
   ],
   "source": [
    "round(pd.crosstab(data_CH['temperature'], data_CH['Accepted'],normalize = True,margins=True, margins_name=\"Total\")*100,2)"
   ]
  },
  {
   "attachments": {},
   "cell_type": "markdown",
   "metadata": {},
   "source": [
    "As the temperature rises the acceptance rate of coffee house coupon increase."
   ]
  },
  {
   "cell_type": "code",
   "execution_count": 212,
   "metadata": {},
   "outputs": [
    {
     "data": {
      "text/html": [
       "<div>\n",
       "<style scoped>\n",
       "    .dataframe tbody tr th:only-of-type {\n",
       "        vertical-align: middle;\n",
       "    }\n",
       "\n",
       "    .dataframe tbody tr th {\n",
       "        vertical-align: top;\n",
       "    }\n",
       "\n",
       "    .dataframe thead th {\n",
       "        text-align: right;\n",
       "    }\n",
       "</style>\n",
       "<table border=\"1\" class=\"dataframe\">\n",
       "  <thead>\n",
       "    <tr style=\"text-align: right;\">\n",
       "      <th>Accepted</th>\n",
       "      <th>0</th>\n",
       "      <th>1</th>\n",
       "      <th>Total</th>\n",
       "    </tr>\n",
       "    <tr>\n",
       "      <th>CoffeeHouse</th>\n",
       "      <th></th>\n",
       "      <th></th>\n",
       "      <th></th>\n",
       "    </tr>\n",
       "  </thead>\n",
       "  <tbody>\n",
       "    <tr>\n",
       "      <th>1 - 3</th>\n",
       "      <td>9.18</td>\n",
       "      <td>16.89</td>\n",
       "      <td>26.08</td>\n",
       "    </tr>\n",
       "    <tr>\n",
       "      <th>4 - 8</th>\n",
       "      <td>4.23</td>\n",
       "      <td>9.23</td>\n",
       "      <td>13.46</td>\n",
       "    </tr>\n",
       "    <tr>\n",
       "      <th>gt8</th>\n",
       "      <td>2.93</td>\n",
       "      <td>5.63</td>\n",
       "      <td>8.56</td>\n",
       "    </tr>\n",
       "    <tr>\n",
       "      <th>less1</th>\n",
       "      <td>14.91</td>\n",
       "      <td>13.79</td>\n",
       "      <td>28.70</td>\n",
       "    </tr>\n",
       "    <tr>\n",
       "      <th>never</th>\n",
       "      <td>18.82</td>\n",
       "      <td>4.38</td>\n",
       "      <td>23.20</td>\n",
       "    </tr>\n",
       "    <tr>\n",
       "      <th>Total</th>\n",
       "      <td>50.08</td>\n",
       "      <td>49.92</td>\n",
       "      <td>100.00</td>\n",
       "    </tr>\n",
       "  </tbody>\n",
       "</table>\n",
       "</div>"
      ],
      "text/plain": [
       "Accepted         0      1   Total\n",
       "CoffeeHouse                      \n",
       "1 - 3         9.18  16.89   26.08\n",
       "4 - 8         4.23   9.23   13.46\n",
       "gt8           2.93   5.63    8.56\n",
       "less1        14.91  13.79   28.70\n",
       "never        18.82   4.38   23.20\n",
       "Total        50.08  49.92  100.00"
      ]
     },
     "execution_count": 212,
     "metadata": {},
     "output_type": "execute_result"
    }
   ],
   "source": [
    "round(pd.crosstab(data_CH['CoffeeHouse'], data_CH['Accepted'],normalize = True, \n",
    "                  margins=True, margins_name=\"Total\")*100,2)"
   ]
  },
  {
   "attachments": {},
   "cell_type": "markdown",
   "metadata": {},
   "source": [
    "From the above table, we can say that regular coffee house customers are the one who are more likely to accept the coupon compared to new visitors."
   ]
  },
  {
   "cell_type": "code",
   "execution_count": 213,
   "metadata": {},
   "outputs": [],
   "source": [
    "Singles_visit_3_or_more_times = data_CH[((data_CH[\"maritalStatus\"].str.contains(\"Single\"))) \n",
    "               & ((data_CH[\"CoffeeHouse\"].str.contains(\"1 - 3|4 - 8|gt8\")))]\n",
    "Remaining_group = data_CH['Accepted'].sum() - Singles_visit_3_or_times['Accepted'].sum()"
   ]
  },
  {
   "cell_type": "code",
   "execution_count": 214,
   "metadata": {},
   "outputs": [
    {
     "data": {
      "text/plain": [
       "Text(0.5, 1.0, \"Percentage of drivers' groups from those who accepted Coffee house coupons\")"
      ]
     },
     "execution_count": 214,
     "metadata": {},
     "output_type": "execute_result"
    },
    {
     "data": {
      "image/png": "[encoded data removed]",
      "text/plain": [
       "<Figure size 864x576 with 1 Axes>"
      ]
     },
     "metadata": {},
     "output_type": "display_data"
    }
   ],
   "source": [
    "plt.figure(figsize=(12,8))\n",
    "labels = ['Singles who visit a coffee house 3 times or more in a month' , 'Remaining group']\n",
    "Pie7 = [Singles_visit_3_or_more_times['Accepted'].sum(), Remaining_group]\n",
    "plt.pie(Pie7, autopct='%.0f%%', explode = [0.05,0.05], labels = labels)\n",
    "plt.title(\"Percentage of drivers' groups from those who accepted Coffee house coupons\", {\"size\" : 16})"
   ]
  },
  {
   "cell_type": "markdown",
   "metadata": {},
   "source": [
    "Singles who visit a coffee house 3 times or more in a month contribute to more than one quarter of drivers who accepted the coffee house coupon."
   ]
  },
  {
   "cell_type": "code",
   "execution_count": 215,
   "metadata": {},
   "outputs": [],
   "source": [
    "# Now investigating the coffee house rejection of drivers who visit coffeehouse less than once a month. \n",
    "visit_1_or_less_times =data_CH[(data_CH[\"CoffeeHouse\"].str.contains(\"never|less1\"))]"
   ]
  },
  {
   "cell_type": "code",
   "execution_count": 216,
   "metadata": {},
   "outputs": [],
   "source": [
    "#Identifying the number of zeros in the accepted column to calculate the total rejections\n",
    "Remaining_group1 = (data_CH['Accepted'] == 0).sum() - (visit_1_or_less_times['Accepted'] == 0).sum()"
   ]
  },
  {
   "cell_type": "code",
   "execution_count": 217,
   "metadata": {},
   "outputs": [
    {
     "data": {
      "text/plain": [
       "Text(0.5, 1.0, \"Percentage of drivers' groups from those who rejected Coffee house coupons\")"
      ]
     },
     "execution_count": 217,
     "metadata": {},
     "output_type": "execute_result"
    },
    {
     "data": {
      "image/png": "[encoded data removed]",
      "text/plain": [
       "<Figure size 864x576 with 1 Axes>"
      ]
     },
     "metadata": {},
     "output_type": "display_data"
    }
   ],
   "source": [
    "plt.figure(figsize=(12,8))\n",
    "labels = ['Singles who visit a coffee house 1 time or less in a month' , 'Remaining group']\n",
    "Pie8 = [(visit_1_or_less_times['Accepted'] == 0).sum(), Remaining_group1]\n",
    "plt.pie(Pie8, autopct='%.0f%%', explode = [0.05,0.05], labels = labels)\n",
    "plt.title(\"Percentage of drivers' groups from those who rejected Coffee house coupons\", {\"size\" : 16})"
   ]
  },
  {
   "attachments": {},
   "cell_type": "markdown",
   "metadata": {},
   "source": [
    "Singles who visit a coffee house 1 time or less in a month are more likely to reject the coffee house coupon. "
   ]
  },
  {
   "cell_type": "markdown",
   "metadata": {},
   "source": [
    "# Conclusion"
   ]
  },
  {
   "attachments": {},
   "cell_type": "markdown",
   "metadata": {},
   "source": [
    "From the primary analysis of the coffee house coupon data, we can say there are several factors that contribute to accepting the coupons. The most prominent are being a frequent visitor single male with a bachelor’s degree or in college or being a frequent visitor married female with a bachelor’s degree or in college.\n",
    "\n",
    "On the other hand, drivers who visit a coffee house 1 time or less in month and receive a 2-hour expiration on a coffee house coupon are more likely to reject it."
   ]
  },
  {
   "cell_type": "code",
   "execution_count": null,
   "metadata": {},
   "outputs": [],
   "source": []
  },
  {
   "cell_type": "code",
   "execution_count": null,
   "metadata": {},
   "outputs": [],
   "source": []
  }
 ],
 "metadata": {
  "kernelspec": {
   "display_name": "Python 3 (ipykernel)",
   "language": "python",
   "name": "python3"
  },
  "language_info": {
   "codemirror_mode": {
    "name": "ipython",
    "version": 3
   },
   "file_extension": ".py",
   "mimetype": "text/x-python",
   "name": "python",
   "nbconvert_exporter": "python",
   "pygments_lexer": "ipython3",
   "version": "3.9.7"
  },
  "widgets": {
   "application/vnd.jupyter.widget-state+json": {
    "state": {},
    "version_major": 2,
    "version_minor": 0
   }
  }
 },
 "nbformat": 4,
 "nbformat_minor": 4
}
