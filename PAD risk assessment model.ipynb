{
 "cells": [
  {
   "cell_type": "markdown",
   "id": "f770614a",
   "metadata": {},
   "source": [
    "# *In the name of God, the Most Gracious, the Most Merciful*"
   ]
  },
  {
   "cell_type": "markdown",
   "id": "02fd0048",
   "metadata": {},
   "source": [
    "---------"
   ]
  },
  {
   "cell_type": "markdown",
   "id": "e30f41b0",
   "metadata": {},
   "source": [
    "----------"
   ]
  },
  {
   "cell_type": "markdown",
   "id": "01d1bb43",
   "metadata": {},
   "source": [
    "## PAD risk assessment model\n",
    "*A blood test that can save lives*\n",
    "\n",
    "by: Abdelrahman Zamzam"
   ]
  },
  {
   "cell_type": "markdown",
   "id": "15b5eae7",
   "metadata": {},
   "source": [
    "-----"
   ]
  },
  {
   "cell_type": "code",
   "execution_count": null,
   "id": "24466aa5",
   "metadata": {},
   "outputs": [],
   "source": [
    "import numpy as np\n",
    "import tensorflow as tf\n",
    "\n",
    "# Define the neural network architecture\n",
    "model = tf.keras.Sequential([\n",
    "    tf.keras.layers.Dense(16, activation='relu', input_shape=(11,)),\n",
    "    tf.keras.layers.Dense(8, activation='relu'),\n",
    "    tf.keras.layers.Dense(1, activation='sigmoid')\n",
    "])\n",
    "\n",
    "# Compile the model\n",
    "model.compile(optimizer='adam', loss='binary_crossentropy', metrics=['accuracy'])\n",
    "\n",
    "# Create the initial dataset\n",
    "dataset_X = np.array([[0.0, 0, 0.0, 0, 0, 0, 0, 0, 0, 0, 0]])  # Initial empty dataset\n",
    "dataset_y = np.array([[0]])  # Initial empty labels\n",
    "\n",
    "# Training loop\n",
    "while True:\n",
    "    # Get input from the user\n",
    "    fabp3 = float(input(\"Enter FABP3 value: \"))\n",
    "    calf_pain = int(input(\"Enter Calf_Pain (0 or 1): \"))\n",
    "    age = float(input(\"Enter Age: \"))\n",
    "    sex = int(input(\"Enter Sex (0 or 1): \"))\n",
    "    hypertension = int(input(\"Enter Hypertension (0 or 1): \"))\n",
    "    hypercholesterolemia = int(input(\"Enter Hypercholesterolemia (0 or 1): \"))\n",
    "    diabetes = int(input(\"Enter Diabetes (0 or 1): \"))\n",
    "    smoking = int(input(\"Enter Smoking (0 or 1): \"))\n",
    "    chf = int(input(\"Enter Congestive Heart Failure (0 or 1): \"))\n",
    "    cad = int(input(\"Enter Coronary Artery Disease (0 or 1): \"))\n",
    "    stroketia = int(input(\"Enter Stroke/TIA (0 or 1): \"))\n",
    "    \n",
    "    # Add the new data to the dataset\n",
    "    new_data = np.array([[fabp3, calf_pain, age, sex, hypertension, hypercholesterolemia,\n",
    "                          diabetes, smoking, chf, cad, stroketia]])\n",
    "    dataset_X = np.concatenate((dataset_X, new_data), axis=0)\n",
    "    \n",
    "    # Make the prediction using the current model\n",
    "    prediction = model.predict(new_data)\n",
    "    \n",
    "    # Convert the prediction to positive or negative\n",
    "    if prediction[0][0] >= 0.5:\n",
    "        outcome = \"Positive\"\n",
    "    else:\n",
    "        outcome = \"Negative\"\n",
    "        \n",
    "    # Ask the user if the prediction is correct\n",
    "    print(\"Outcome:\", outcome)\n",
    "    is_correct = input(\"Is the outcome correct? (y/n): \")\n",
    "    \n",
    "    if is_correct.lower() == 'n':\n",
    "        # Get the correct label from the user\n",
    "        label = int(input(\"Enter the correct label (0 or 1): \"))\n",
    "        dataset_y = np.concatenate((dataset_y, np.array([[label]])), axis=0)\n",
    "        \n",
    "        # Retrain the model with the updated dataset\n",
    "        model.fit(dataset_X, dataset_y, epochs=10)\n",
    "    \n",
    "    # Ask the user if they want to continue or exit\n",
    "    continue_calculation = input(\"Do you want to continue? (y/n): \")\n",
    "    if continue_calculation.lower() == 'n':\n",
    "        break\n",
    "\n",
    "# Final prediction using the updated model\n",
    "final_prediction = model.predict(new_data)\n",
    "if final_prediction[0][0] >= 0.5:\n",
    "    final_outcome = \"Positive\"\n",
    "else:\n",
    "    final_outcome = \"Negative\"\n",
    "    \n",
    "print(\"Final outcome:\", final_outcome)\n"
   ]
  },
  {
   "cell_type": "code",
   "execution_count": null,
   "id": "cb9b2aa6",
   "metadata": {},
   "outputs": [],
   "source": []
  },
  {
   "cell_type": "code",
   "execution_count": null,
   "id": "a0829e66",
   "metadata": {},
   "outputs": [],
   "source": []
  },
  {
   "cell_type": "code",
   "execution_count": null,
   "id": "b57c3e47",
   "metadata": {},
   "outputs": [],
   "source": []
  },
  {
   "cell_type": "code",
   "execution_count": null,
   "id": "a4609a87",
   "metadata": {},
   "outputs": [],
   "source": []
  }
 ],
 "metadata": {
  "kernelspec": {
   "display_name": "Python 3 (ipykernel)",
   "language": "python",
   "name": "python3"
  },
  "language_info": {
   "codemirror_mode": {
    "name": "ipython",
    "version": 3
   },
   "file_extension": ".py",
   "mimetype": "text/x-python",
   "name": "python",
   "nbconvert_exporter": "python",
   "pygments_lexer": "ipython3",
   "version": "3.9.7"
  }
 },
 "nbformat": 4,
 "nbformat_minor": 5
}
