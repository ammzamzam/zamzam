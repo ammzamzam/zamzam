{
 "cells": [
  {
   "cell_type": "markdown",
   "id": "f770614a",
   "metadata": {},
   "source": [
    "# *In the name of God, the Most Gracious, the Most Merciful*"
   ]
  },
  {
   "cell_type": "markdown",
   "id": "02fd0048",
   "metadata": {},
   "source": [
    "---------"
   ]
  },
  {
   "cell_type": "markdown",
   "id": "01d1bb43",
   "metadata": {},
   "source": [
    "## PAD risk assessment tool\n",
    "\n",
    "by: Abdelrahman Zamzam"
   ]
  },
  {
   "cell_type": "markdown",
   "id": "15b5eae7",
   "metadata": {},
   "source": [
    "-----"
   ]
  },
  {
   "cell_type": "markdown",
   "id": "da8c2d59",
   "metadata": {},
   "source": [
    "## The code provided below is a demonstration of a dynamic diagnostic tool for Peripheral Arterial Disease (PAD). The variable names have been concealed to ensure ethical considerations."
   ]
  },
  {
   "cell_type": "code",
   "execution_count": 1,
   "id": "36aeafb9",
   "metadata": {},
   "outputs": [
    {
     "name": "stderr",
     "output_type": "stream",
     "text": [
      "2023-06-07 23:40:37.783316: I tensorflow/core/platform/cpu_feature_guard.cc:193] This TensorFlow binary is optimized with oneAPI Deep Neural Network Library (oneDNN) to use the following CPU instructions in performance-critical operations:  AVX2 FMA\n",
      "To enable them in other operations, rebuild TensorFlow with the appropriate compiler flags.\n"
     ]
    },
    {
     "name": "stdout",
     "output_type": "stream",
     "text": [
      "Epoch 1/10\n"
     ]
    },
    {
     "name": "stderr",
     "output_type": "stream",
     "text": [
      "2023-06-07 23:40:43.348116: I tensorflow/core/platform/cpu_feature_guard.cc:193] This TensorFlow binary is optimized with oneAPI Deep Neural Network Library (oneDNN) to use the following CPU instructions in performance-critical operations:  AVX2 FMA\n",
      "To enable them in other operations, rebuild TensorFlow with the appropriate compiler flags.\n"
     ]
    },
    {
     "name": "stdout",
     "output_type": "stream",
     "text": [
      "4/4 [==============================] - 0s 2ms/step - loss: 0.6855 - accuracy: 0.5300\n",
      "Epoch 2/10\n",
      "4/4 [==============================] - 0s 4ms/step - loss: 0.6847 - accuracy: 0.5300\n",
      "Epoch 3/10\n",
      "4/4 [==============================] - 0s 10ms/step - loss: 0.6843 - accuracy: 0.5300\n",
      "Epoch 4/10\n",
      "4/4 [==============================] - 0s 4ms/step - loss: 0.6838 - accuracy: 0.5300\n",
      "Epoch 5/10\n",
      "4/4 [==============================] - 0s 2ms/step - loss: 0.6834 - accuracy: 0.5400\n",
      "Epoch 6/10\n",
      "4/4 [==============================] - 0s 6ms/step - loss: 0.6829 - accuracy: 0.5400\n",
      "Epoch 7/10\n",
      "4/4 [==============================] - 0s 5ms/step - loss: 0.6825 - accuracy: 0.5400\n",
      "Epoch 8/10\n",
      "4/4 [==============================] - 0s 5ms/step - loss: 0.6820 - accuracy: 0.5400\n",
      "Epoch 9/10\n",
      "4/4 [==============================] - 0s 5ms/step - loss: 0.6815 - accuracy: 0.5400\n",
      "Epoch 10/10\n",
      "4/4 [==============================] - 0s 5ms/step - loss: 0.6814 - accuracy: 0.5600\n",
      "Enter clinical characteristic 1: 1\n",
      "Enter clinical characteristic 2: 2\n",
      "Enter clinical characteristic 3: 1\n",
      "Enter clinical characteristic 4: 2\n",
      "Enter clinical characteristic 5: 1\n",
      "1/1 [==============================] - 0s 68ms/step\n",
      "Prediction: Negative\n",
      "Is the prediction correct? (y/n): n\n",
      "Enter the label for the new data (0 for negative, 1 for positive): 1\n",
      "Epoch 1/10\n",
      "4/4 [==============================] - 0s 3ms/step - loss: 0.6880 - accuracy: 0.5545\n",
      "Epoch 2/10\n",
      "4/4 [==============================] - 0s 4ms/step - loss: 0.6866 - accuracy: 0.5545\n",
      "Epoch 3/10\n",
      "4/4 [==============================] - 0s 3ms/step - loss: 0.6859 - accuracy: 0.5446\n",
      "Epoch 4/10\n",
      "4/4 [==============================] - 0s 6ms/step - loss: 0.6852 - accuracy: 0.5446\n",
      "Epoch 5/10\n",
      "4/4 [==============================] - 0s 6ms/step - loss: 0.6849 - accuracy: 0.5446\n",
      "Epoch 6/10\n",
      "4/4 [==============================] - 0s 2ms/step - loss: 0.6840 - accuracy: 0.5446\n",
      "Epoch 7/10\n",
      "4/4 [==============================] - 0s 3ms/step - loss: 0.6840 - accuracy: 0.5446\n",
      "Epoch 8/10\n",
      "4/4 [==============================] - 0s 9ms/step - loss: 0.6836 - accuracy: 0.5545\n",
      "Epoch 9/10\n",
      "4/4 [==============================] - 0s 5ms/step - loss: 0.6830 - accuracy: 0.5545\n",
      "Epoch 10/10\n",
      "4/4 [==============================] - 0s 10ms/step - loss: 0.6826 - accuracy: 0.5446\n",
      "Enter clinical characteristic 1: 1\n",
      "Enter clinical characteristic 2: 2\n",
      "Enter clinical characteristic 3: 1\n",
      "Enter clinical characteristic 4: 2\n",
      "Enter clinical characteristic 5: 1\n",
      "1/1 [==============================] - 0s 43ms/step\n",
      "Prediction: Positive\n",
      "Is the prediction correct? (y/n): y\n",
      "Diagnosis complete!\n"
     ]
    }
   ],
   "source": [
    "import numpy as np\n",
    "from tensorflow import keras\n",
    "\n",
    "# Step 1: Generate the fictional dataset\n",
    "def generate_dataset():\n",
    "    # Generate random clinical characteristics\n",
    "    clinical_data = np.random.rand(100, 5)  # 100 samples with 5 features\n",
    "\n",
    "    # Generate corresponding labels (positive or negative)\n",
    "    labels = np.random.randint(2, size=(100, 1))  # 0 for negative, 1 for positive\n",
    "\n",
    "    return clinical_data, labels\n",
    "\n",
    "# Step 2: Build the initial neural network model\n",
    "def build_model():\n",
    "    model = keras.Sequential([\n",
    "        keras.layers.Dense(16, activation='relu', input_shape=(5,)),\n",
    "        keras.layers.Dense(1, activation='sigmoid')\n",
    "    ])\n",
    "\n",
    "    model.compile(optimizer='adam', loss='binary_crossentropy', metrics=['accuracy'])\n",
    "\n",
    "    return model\n",
    "\n",
    "# Step 6: Update the dataset with user input\n",
    "def update_dataset(clinical_data, labels, user_input):\n",
    "    updated_data = np.vstack((clinical_data, user_input))\n",
    "    updated_labels = np.vstack((labels, [[int(input(\"Enter the label for the new data (0 for negative, 1 for positive): \"))]]))\n",
    "    return updated_data, updated_labels\n",
    "\n",
    "# Step 7: Repeat the process until the prediction is correct\n",
    "def live_diagnostic_calculator():\n",
    "    clinical_data, labels = generate_dataset()\n",
    "    model = build_model()\n",
    "    model.fit(clinical_data, labels, epochs=10)  # Train the initial model\n",
    "\n",
    "    while True:\n",
    "        # Step 3: Take user input\n",
    "        user_input = np.array([[float(input(f\"Enter clinical characteristic {i+1}: \")) for i in range(5)]])\n",
    "\n",
    "        # Step 4: Make predictions\n",
    "        prediction = model.predict(user_input)\n",
    "        print(\"Prediction:\", \"Positive\" if prediction >= 0.5 else \"Negative\")\n",
    "\n",
    "        # Step 5: Verify the prediction\n",
    "        correct = input(\"Is the prediction correct? (y/n): \").lower() == 'y'\n",
    "\n",
    "        if correct:\n",
    "            break\n",
    "        else:\n",
    "            # Step 6: Update the dataset\n",
    "            clinical_data, labels = update_dataset(clinical_data, labels, user_input)\n",
    "            model = build_model()  # Rebuild the model\n",
    "            model.fit(clinical_data, labels, epochs=10)  # Retrain the model\n",
    "\n",
    "    print(\"Diagnosis complete!\")\n",
    "\n",
    "# Run the live diagnostic calculator\n",
    "live_diagnostic_calculator()\n"
   ]
  },
  {
   "cell_type": "code",
   "execution_count": null,
   "id": "2d7e8113",
   "metadata": {},
   "outputs": [],
   "source": []
  }
 ],
 "metadata": {
  "kernelspec": {
   "display_name": "Python 3 (ipykernel)",
   "language": "python",
   "name": "python3"
  },
  "language_info": {
   "codemirror_mode": {
    "name": "ipython",
    "version": 3
   },
   "file_extension": ".py",
   "mimetype": "text/x-python",
   "name": "python",
   "nbconvert_exporter": "python",
   "pygments_lexer": "ipython3",
   "version": "3.9.7"
  }
 },
 "nbformat": 4,
 "nbformat_minor": 5
}
